{
 "cells": [
  {
   "cell_type": "markdown",
   "metadata": {
    "deletable": true,
    "editable": true
   },
   "source": [
    "# Take Home Exam"
   ]
  },
  {
   "cell_type": "markdown",
   "metadata": {
    "deletable": true,
    "editable": true
   },
   "source": [
    "## Instructions:\n",
    "* Make sure that you run all code cells that are included in this notebook.\n",
    "* I will deduct points in **half-point steps** in the following cases:\n",
    "    * Your code does not work.\n",
    "    * You are not answering the question (Read carefully).\n",
    "    * Your code is slow or inefficient.\n",
    "    * You do not explain why you are doing what you are doing.\n",
    "    * Clean **unnecessary** elements before submission.\n",
    "    * **Check the rubric on Camino for this assignment!**\n",
    "    \n",
    "**The deadline is Saturday, February 10, 2018, 11:59PM**.\n",
    "\n",
    "**I am not available on Saturday and have only limited access to my email. If you have questions or issues, make sure you adress them on Friday. **"
   ]
  },
  {
   "cell_type": "markdown",
   "metadata": {
    "ExecuteTime": {
     "end_time": "2018-02-09T02:47:21.154845Z",
     "start_time": "2018-02-09T02:47:21.148053Z"
    },
    "deletable": true,
    "editable": true
   },
   "source": [
    "## Overview"
   ]
  },
  {
   "cell_type": "code",
   "execution_count": 2,
   "metadata": {
    "collapsed": true,
    "deletable": true,
    "editable": true
   },
   "outputs": [],
   "source": [
    "import numpy as np\n",
    "import pandas as pd\n",
    "pd.options.display.float_format = '{:.4f}'.format"
   ]
  },
  {
   "cell_type": "code",
   "execution_count": 2,
   "metadata": {
    "ExecuteTime": {
     "end_time": "2018-02-09T02:32:57.453215Z",
     "start_time": "2018-02-09T02:32:57.208930Z"
    },
    "collapsed": true,
    "deletable": true,
    "editable": true
   },
   "outputs": [],
   "source": [
    "%matplotlib inline"
   ]
  },
  {
   "cell_type": "code",
   "execution_count": 3,
   "metadata": {
    "ExecuteTime": {
     "end_time": "2018-02-09T02:32:57.827511Z",
     "start_time": "2018-02-09T02:32:57.819390Z"
    },
    "collapsed": true,
    "deletable": true,
    "editable": true
   },
   "outputs": [],
   "source": [
    "from IPython.core.interactiveshell import InteractiveShell\n",
    "InteractiveShell.ast_node_interactivity = \"all\""
   ]
  },
  {
   "cell_type": "code",
   "execution_count": 4,
   "metadata": {
    "ExecuteTime": {
     "end_time": "2018-02-09T02:32:59.474851Z",
     "start_time": "2018-02-09T02:32:58.389018Z"
    },
    "collapsed": false,
    "deletable": true,
    "editable": true
   },
   "outputs": [],
   "source": [
    "cd = pd.read_csv('complications.csv', dtype=str).rename(columns=lambda x: x.strip())"
   ]
  },
  {
   "cell_type": "markdown",
   "metadata": {
    "deletable": true,
    "editable": true
   },
   "source": [
    "This dataset contains complications in U.S. hospitals. Each observation represents the number of complications and the 30-day death rate for a specific complication in a specific hospital."
   ]
  },
  {
   "cell_type": "markdown",
   "metadata": {
    "deletable": true,
    "editable": true
   },
   "source": [
    "The columns are as follows:"
   ]
  },
  {
   "cell_type": "code",
   "execution_count": 6,
   "metadata": {
    "ExecuteTime": {
     "end_time": "2018-02-09T02:33:02.568935Z",
     "start_time": "2018-02-09T02:33:02.556557Z"
    },
    "collapsed": false,
    "deletable": true,
    "editable": true
   },
   "outputs": [
    {
     "data": {
      "text/plain": [
       "Index([u'Provider ID', u'Hospital Name', u'Address', u'City', u'ZIP Code',\n",
       "       u'County Name', u'Phone Number', u'Year', u'Measure ID',\n",
       "       u'Measure Name', u'Denominator', u'Score', u'Lower Estimate',\n",
       "       u'Higher Estimate'],\n",
       "      dtype='object')"
      ]
     },
     "execution_count": 6,
     "metadata": {},
     "output_type": "execute_result"
    }
   ],
   "source": [
    "cd.columns"
   ]
  },
  {
   "cell_type": "markdown",
   "metadata": {
    "deletable": true,
    "editable": true
   },
   "source": [
    "| Column Name | Description|\n",
    "|-------------|------------|\n",
    "|Provider ID | Unique ID of the hospital |\n",
    "|Hospital Name| Name of the hospital|\n",
    "|Address| Address of the hospital|\n",
    "|City| Name of the city the hospital is in |\n",
    "|ZIP Code | Postal code of the hospital|\n",
    "|County Name | Name of the county the hospital is in|\n",
    "|Phone Number | Phone number of the hospital |\n",
    "|Year | The year in which the complications were recorded|\n",
    "|Measure ID | Code for the complication |\n",
    "|Measure Name | Name of the complication|\n",
    "|Denominator| Number of underlying medical procedures|\n",
    "|Score | Estimate for number of serious complications |\n",
    "|Lower Estimate | Lower boundary of score|\n",
    "|Higher Estimate | Upper boundary of score|"
   ]
  },
  {
   "cell_type": "markdown",
   "metadata": {
    "deletable": true,
    "editable": true
   },
   "source": [
    "A quick overview of the dataset:"
   ]
  },
  {
   "cell_type": "code",
   "execution_count": 5,
   "metadata": {
    "ExecuteTime": {
     "end_time": "2018-02-09T02:33:06.354324Z",
     "start_time": "2018-02-09T02:33:05.407259Z"
    },
    "collapsed": false,
    "deletable": true,
    "editable": true
   },
   "outputs": [
    {
     "data": {
      "text/html": [
       "<div>\n",
       "<style>\n",
       "    .dataframe thead tr:only-child th {\n",
       "        text-align: right;\n",
       "    }\n",
       "\n",
       "    .dataframe thead th {\n",
       "        text-align: left;\n",
       "    }\n",
       "\n",
       "    .dataframe tbody tr th {\n",
       "        vertical-align: top;\n",
       "    }\n",
       "</style>\n",
       "<table border=\"1\" class=\"dataframe\">\n",
       "  <thead>\n",
       "    <tr style=\"text-align: right;\">\n",
       "      <th></th>\n",
       "      <th>Provider ID</th>\n",
       "      <th>Hospital Name</th>\n",
       "      <th>Address</th>\n",
       "      <th>City</th>\n",
       "      <th>ZIP Code</th>\n",
       "      <th>County Name</th>\n",
       "      <th>Phone Number</th>\n",
       "      <th>Year</th>\n",
       "      <th>Measure ID</th>\n",
       "      <th>Measure Name</th>\n",
       "      <th>Denominator</th>\n",
       "      <th>Score</th>\n",
       "      <th>Lower Estimate</th>\n",
       "      <th>Higher Estimate</th>\n",
       "    </tr>\n",
       "  </thead>\n",
       "  <tbody>\n",
       "    <tr>\n",
       "      <th>count</th>\n",
       "      <td>272788</td>\n",
       "      <td>272788</td>\n",
       "      <td>272788</td>\n",
       "      <td>272788</td>\n",
       "      <td>272788</td>\n",
       "      <td>272626</td>\n",
       "      <td>272788</td>\n",
       "      <td>272788</td>\n",
       "      <td>272788</td>\n",
       "      <td>272788</td>\n",
       "      <td>272788</td>\n",
       "      <td>272788</td>\n",
       "      <td>272788</td>\n",
       "      <td>272788</td>\n",
       "    </tr>\n",
       "    <tr>\n",
       "      <th>unique</th>\n",
       "      <td>4746</td>\n",
       "      <td>5119</td>\n",
       "      <td>4915</td>\n",
       "      <td>2874</td>\n",
       "      <td>4368</td>\n",
       "      <td>1526</td>\n",
       "      <td>5028</td>\n",
       "      <td>6</td>\n",
       "      <td>26</td>\n",
       "      <td>26</td>\n",
       "      <td>23771</td>\n",
       "      <td>6373</td>\n",
       "      <td>8690</td>\n",
       "      <td>11699</td>\n",
       "    </tr>\n",
       "    <tr>\n",
       "      <th>top</th>\n",
       "      <td>330090</td>\n",
       "      <td>MEMORIAL HOSPITAL</td>\n",
       "      <td>100 HOSPITAL DRIVE</td>\n",
       "      <td>CHICAGO</td>\n",
       "      <td>76104</td>\n",
       "      <td>LOS ANGELES</td>\n",
       "      <td>6104022273</td>\n",
       "      <td>2013</td>\n",
       "      <td>MORT_30_PN</td>\n",
       "      <td>Pneumonia (PN) 30-Day Mortality Rate</td>\n",
       "      <td>26.0</td>\n",
       "      <td>0.06</td>\n",
       "      <td>0.0</td>\n",
       "      <td>0.06</td>\n",
       "    </tr>\n",
       "    <tr>\n",
       "      <th>freq</th>\n",
       "      <td>89</td>\n",
       "      <td>710</td>\n",
       "      <td>378</td>\n",
       "      <td>1957</td>\n",
       "      <td>353</td>\n",
       "      <td>5421</td>\n",
       "      <td>178</td>\n",
       "      <td>58668</td>\n",
       "      <td>24942</td>\n",
       "      <td>24942</td>\n",
       "      <td>1435</td>\n",
       "      <td>2947</td>\n",
       "      <td>23907</td>\n",
       "      <td>2897</td>\n",
       "    </tr>\n",
       "  </tbody>\n",
       "</table>\n",
       "</div>"
      ],
      "text/plain": [
       "       Provider ID      Hospital Name             Address     City ZIP Code  \\\n",
       "count       272788             272788              272788   272788   272788   \n",
       "unique        4746               5119                4915     2874     4368   \n",
       "top         330090  MEMORIAL HOSPITAL  100 HOSPITAL DRIVE  CHICAGO    76104   \n",
       "freq            89                710                 378     1957      353   \n",
       "\n",
       "        County Name Phone Number    Year  Measure ID  \\\n",
       "count        272626       272788  272788      272788   \n",
       "unique         1526         5028       6          26   \n",
       "top     LOS ANGELES   6104022273    2013  MORT_30_PN   \n",
       "freq           5421          178   58668       24942   \n",
       "\n",
       "                                Measure Name Denominator   Score  \\\n",
       "count                                 272788      272788  272788   \n",
       "unique                                    26       23771    6373   \n",
       "top     Pneumonia (PN) 30-Day Mortality Rate        26.0    0.06   \n",
       "freq                                   24942        1435    2947   \n",
       "\n",
       "       Lower Estimate Higher Estimate  \n",
       "count          272788          272788  \n",
       "unique           8690           11699  \n",
       "top               0.0            0.06  \n",
       "freq            23907            2897  "
      ]
     },
     "execution_count": 5,
     "metadata": {},
     "output_type": "execute_result"
    }
   ],
   "source": [
    "cd.describe()"
   ]
  },
  {
   "cell_type": "markdown",
   "metadata": {
    "deletable": true,
    "editable": true
   },
   "source": [
    "A sample of the dataset:"
   ]
  },
  {
   "cell_type": "code",
   "execution_count": 6,
   "metadata": {
    "ExecuteTime": {
     "end_time": "2018-02-09T02:33:09.786940Z",
     "start_time": "2018-02-09T02:33:09.725225Z"
    },
    "collapsed": false,
    "deletable": true,
    "editable": true
   },
   "outputs": [
    {
     "data": {
      "text/html": [
       "<div>\n",
       "<style>\n",
       "    .dataframe thead tr:only-child th {\n",
       "        text-align: right;\n",
       "    }\n",
       "\n",
       "    .dataframe thead th {\n",
       "        text-align: left;\n",
       "    }\n",
       "\n",
       "    .dataframe tbody tr th {\n",
       "        vertical-align: top;\n",
       "    }\n",
       "</style>\n",
       "<table border=\"1\" class=\"dataframe\">\n",
       "  <thead>\n",
       "    <tr style=\"text-align: right;\">\n",
       "      <th></th>\n",
       "      <th>Provider ID</th>\n",
       "      <th>Hospital Name</th>\n",
       "      <th>Address</th>\n",
       "      <th>City</th>\n",
       "      <th>ZIP Code</th>\n",
       "      <th>County Name</th>\n",
       "      <th>Phone Number</th>\n",
       "      <th>Year</th>\n",
       "      <th>Measure ID</th>\n",
       "      <th>Measure Name</th>\n",
       "      <th>Denominator</th>\n",
       "      <th>Score</th>\n",
       "      <th>Lower Estimate</th>\n",
       "      <th>Higher Estimate</th>\n",
       "    </tr>\n",
       "  </thead>\n",
       "  <tbody>\n",
       "    <tr>\n",
       "      <th>22678</th>\n",
       "      <td>050222</td>\n",
       "      <td>SHARP CHULA VISTA MEDICAL CENTER</td>\n",
       "      <td>751 MEDICAL CENTER COURT</td>\n",
       "      <td>CHULA VISTA</td>\n",
       "      <td>91911</td>\n",
       "      <td>SAN DIEGO</td>\n",
       "      <td>6195025800</td>\n",
       "      <td>2016</td>\n",
       "      <td>MORT_30_PN</td>\n",
       "      <td>Pneumonia (PN) 30-Day Mortality Rate</td>\n",
       "      <td>474.0</td>\n",
       "      <td>14.3000</td>\n",
       "      <td>12.1</td>\n",
       "      <td>16.8</td>\n",
       "    </tr>\n",
       "    <tr>\n",
       "      <th>22088</th>\n",
       "      <td>050191</td>\n",
       "      <td>ST MARY MEDICAL CENTER</td>\n",
       "      <td>1050 LINDEN AVE</td>\n",
       "      <td>LONG BEACH</td>\n",
       "      <td>90813</td>\n",
       "      <td>LOS ANGELES</td>\n",
       "      <td>5624919000</td>\n",
       "      <td>2012</td>\n",
       "      <td>PSI_14_POSTOP_DEHIS</td>\n",
       "      <td>A wound that splits open  after surgery on the...</td>\n",
       "      <td>102.0</td>\n",
       "      <td>1.7800</td>\n",
       "      <td>0.0</td>\n",
       "      <td>3.64</td>\n",
       "    </tr>\n",
       "    <tr>\n",
       "      <th>111295</th>\n",
       "      <td>201309</td>\n",
       "      <td>MAYO REGIONAL HOSPITAL</td>\n",
       "      <td>897 WEST MAIN STREET</td>\n",
       "      <td>DOVER FOXCROFT</td>\n",
       "      <td>04426</td>\n",
       "      <td>PISCATAQUIS</td>\n",
       "      <td>2075644251</td>\n",
       "      <td>2014</td>\n",
       "      <td>MORT_30_STK</td>\n",
       "      <td>Death rate for stroke patients</td>\n",
       "      <td>43.0</td>\n",
       "      <td>14.1000</td>\n",
       "      <td>10.2</td>\n",
       "      <td>18.9</td>\n",
       "    </tr>\n",
       "    <tr>\n",
       "      <th>44865</th>\n",
       "      <td>100012</td>\n",
       "      <td>LEE MEMORIAL HOSPITAL</td>\n",
       "      <td>2776 CLEVELAND AVE</td>\n",
       "      <td>FORT MYERS</td>\n",
       "      <td>33901</td>\n",
       "      <td>LEE</td>\n",
       "      <td>2393321111</td>\n",
       "      <td>2012</td>\n",
       "      <td>MORT_30_PN</td>\n",
       "      <td>Pneumonia (PN) 30-Day Mortality Rate</td>\n",
       "      <td>971.0</td>\n",
       "      <td>10.6000</td>\n",
       "      <td>8.9</td>\n",
       "      <td>12.5</td>\n",
       "    </tr>\n",
       "    <tr>\n",
       "      <th>208974</th>\n",
       "      <td>390194</td>\n",
       "      <td>BLUE MOUNTAIN HOSPITAL-GNADEN HUETTEN CAMPUS</td>\n",
       "      <td>211 NORTH 12TH STREET</td>\n",
       "      <td>LEHIGHTON</td>\n",
       "      <td>18235</td>\n",
       "      <td>CARBON</td>\n",
       "      <td>6073771300</td>\n",
       "      <td>2016</td>\n",
       "      <td>MORT_30_STK</td>\n",
       "      <td>Death rate for stroke patients</td>\n",
       "      <td>72.0</td>\n",
       "      <td>15.7000</td>\n",
       "      <td>11.7</td>\n",
       "      <td>20.8</td>\n",
       "    </tr>\n",
       "  </tbody>\n",
       "</table>\n",
       "</div>"
      ],
      "text/plain": [
       "       Provider ID                                 Hospital Name  \\\n",
       "22678       050222              SHARP CHULA VISTA MEDICAL CENTER   \n",
       "22088       050191                        ST MARY MEDICAL CENTER   \n",
       "111295      201309                        MAYO REGIONAL HOSPITAL   \n",
       "44865       100012                         LEE MEMORIAL HOSPITAL   \n",
       "208974      390194  BLUE MOUNTAIN HOSPITAL-GNADEN HUETTEN CAMPUS   \n",
       "\n",
       "                         Address            City ZIP Code  County Name  \\\n",
       "22678   751 MEDICAL CENTER COURT     CHULA VISTA    91911    SAN DIEGO   \n",
       "22088            1050 LINDEN AVE      LONG BEACH    90813  LOS ANGELES   \n",
       "111295      897 WEST MAIN STREET  DOVER FOXCROFT    04426  PISCATAQUIS   \n",
       "44865         2776 CLEVELAND AVE      FORT MYERS    33901          LEE   \n",
       "208974     211 NORTH 12TH STREET       LEHIGHTON    18235       CARBON   \n",
       "\n",
       "       Phone Number  Year           Measure ID  \\\n",
       "22678    6195025800  2016           MORT_30_PN   \n",
       "22088    5624919000  2012  PSI_14_POSTOP_DEHIS   \n",
       "111295   2075644251  2014          MORT_30_STK   \n",
       "44865    2393321111  2012           MORT_30_PN   \n",
       "208974   6073771300  2016          MORT_30_STK   \n",
       "\n",
       "                                             Measure Name Denominator   Score  \\\n",
       "22678                Pneumonia (PN) 30-Day Mortality Rate       474.0 14.3000   \n",
       "22088   A wound that splits open  after surgery on the...       102.0  1.7800   \n",
       "111295                     Death rate for stroke patients        43.0 14.1000   \n",
       "44865                Pneumonia (PN) 30-Day Mortality Rate       971.0 10.6000   \n",
       "208974                     Death rate for stroke patients        72.0 15.7000   \n",
       "\n",
       "       Lower Estimate Higher Estimate  \n",
       "22678            12.1            16.8  \n",
       "22088             0.0            3.64  \n",
       "111295           10.2            18.9  \n",
       "44865             8.9            12.5  \n",
       "208974           11.7            20.8  "
      ]
     },
     "execution_count": 6,
     "metadata": {},
     "output_type": "execute_result"
    }
   ],
   "source": [
    "cd.sample(5, random_state=1234).head()"
   ]
  },
  {
   "cell_type": "markdown",
   "metadata": {
    "ExecuteTime": {
     "end_time": "2018-02-09T01:16:45.300896Z",
     "start_time": "2018-02-09T01:16:45.295156Z"
    },
    "deletable": true,
    "editable": true
   },
   "source": [
    "# Transform relevant columns"
   ]
  },
  {
   "cell_type": "markdown",
   "metadata": {
    "deletable": true,
    "editable": true
   },
   "source": [
    "All columns in the dataset are of type `str` (to preserve the ZIP code information). For **five** columns, str is the wrong type. Change the columns and explain why you changed which column."
   ]
  },
  {
   "cell_type": "markdown",
   "metadata": {
    "deletable": true,
    "editable": true
   },
   "source": [
    "Below are the columns which can not possibly hold a str data type as all the values in the column will be numeric values. Hence can either have int or float type. \n",
    "\n",
    "1. Year\n",
    "2. Denominator \n",
    "3. Score\n",
    "4. Lower Estimate\n",
    "5. Higher Estimate\n",
    "\n",
    "Phone numbers can be of string type as it may contain additional characters suc as '+' or '-' etc.\n",
    "\n",
    "With data type str, We can not perform certain arithmatic functions. And hence, I feel, the columns such as **Score**, **Denominator**, **Lower Estimate** and **Higher Estimate** should be converted to float64"
   ]
  },
  {
   "cell_type": "code",
   "execution_count": 15,
   "metadata": {
    "collapsed": false,
    "deletable": true,
    "editable": true
   },
   "outputs": [],
   "source": [
    "cd['Year']=cd['Year'].astype('float', copy =False)"
   ]
  },
  {
   "cell_type": "code",
   "execution_count": 8,
   "metadata": {
    "collapsed": true,
    "deletable": true,
    "editable": true
   },
   "outputs": [],
   "source": [
    "cd['Score']=cd['Score'].astype('float', copy =False)"
   ]
  },
  {
   "cell_type": "code",
   "execution_count": 9,
   "metadata": {
    "collapsed": true,
    "deletable": true,
    "editable": true
   },
   "outputs": [],
   "source": [
    "cd['Denominator']=cd['Denominator'].astype('float', copy =False)"
   ]
  },
  {
   "cell_type": "code",
   "execution_count": 8,
   "metadata": {
    "collapsed": true,
    "deletable": true,
    "editable": true
   },
   "outputs": [],
   "source": [
    "cd['Lower Estimate']=cd['Lower Estimate'].astype('float', copy =False)"
   ]
  },
  {
   "cell_type": "code",
   "execution_count": 9,
   "metadata": {
    "collapsed": true,
    "deletable": true,
    "editable": true
   },
   "outputs": [],
   "source": [
    "cd['Higher Estimate']=cd['Higher Estimate'].astype('float', copy =False)"
   ]
  },
  {
   "cell_type": "markdown",
   "metadata": {
    "ExecuteTime": {
     "end_time": "2018-02-09T01:31:41.847890Z",
     "start_time": "2018-02-09T01:31:41.839019Z"
    },
    "deletable": true,
    "editable": true
   },
   "source": [
    "# Create a ratio between the score and the denominator"
   ]
  },
  {
   "cell_type": "markdown",
   "metadata": {
    "ExecuteTime": {
     "end_time": "2018-02-09T01:34:20.308451Z",
     "start_time": "2018-02-09T01:34:20.287272Z"
    },
    "deletable": true,
    "editable": true
   },
   "source": [
    "Create a new column in the dataset that contains the ratio value."
   ]
  },
  {
   "cell_type": "code",
   "execution_count": 10,
   "metadata": {
    "collapsed": false,
    "deletable": true,
    "editable": true
   },
   "outputs": [],
   "source": [
    "cd['Ratio']=cd['Score']/cd['Denominator']"
   ]
  },
  {
   "cell_type": "markdown",
   "metadata": {
    "ExecuteTime": {
     "end_time": "2018-02-09T01:33:13.551872Z",
     "start_time": "2018-02-09T01:33:13.546879Z"
    },
    "deletable": true,
    "editable": true
   },
   "source": [
    "# Create an overview of the ratio for deathly complications"
   ]
  },
  {
   "cell_type": "markdown",
   "metadata": {
    "deletable": true,
    "editable": true
   },
   "source": [
    "0. **Be careful when you identify 'deathly' complications and make sure that you catch all of them.**\n",
    "1. Create the overview (Make sure that the overview is understandable to everyone.)\n",
    "2. Choose an appropriate measure to aggregate the data. **Ignore that the data is for multiple years**.\n",
    "2. Sort with the highest ratio on top."
   ]
  },
  {
   "cell_type": "markdown",
   "metadata": {
    "deletable": true,
    "editable": true
   },
   "source": [
    "0. **Be careful when you identify 'deathly' complications and make sure that you catch all of them.**\n",
    "\n",
    "**Assumption:** Here I am making assumption that the measure name containing 'Death','Mortality' and 'Deaths' will be considered under deathly complication as I am unsure to predict which of the rest complications may or may not result in deaths.\n",
    "\n",
    "**Answer**: The below snippet catches the 'deathly' complications. The graphs show the Ratios of each deathly complications. The below graph shows that, 'PSI_4_SURG_COMP' surgery complications play a major role in deciding the number of patient's unfortunate deaths."
   ]
  },
  {
   "cell_type": "code",
   "execution_count": 11,
   "metadata": {
    "collapsed": false,
    "deletable": true,
    "editable": true
   },
   "outputs": [
    {
     "data": {
      "text/html": [
       "<div>\n",
       "<style>\n",
       "    .dataframe thead tr:only-child th {\n",
       "        text-align: right;\n",
       "    }\n",
       "\n",
       "    .dataframe thead th {\n",
       "        text-align: left;\n",
       "    }\n",
       "\n",
       "    .dataframe tbody tr th {\n",
       "        vertical-align: top;\n",
       "    }\n",
       "</style>\n",
       "<table border=\"1\" class=\"dataframe\">\n",
       "  <thead>\n",
       "    <tr style=\"text-align: right;\">\n",
       "      <th></th>\n",
       "      <th>Denominator</th>\n",
       "      <th>Score</th>\n",
       "      <th>Lower Estimate</th>\n",
       "      <th>Higher Estimate</th>\n",
       "      <th>Ratio</th>\n",
       "    </tr>\n",
       "    <tr>\n",
       "      <th>Measure ID</th>\n",
       "      <th></th>\n",
       "      <th></th>\n",
       "      <th></th>\n",
       "      <th></th>\n",
       "      <th></th>\n",
       "    </tr>\n",
       "  </thead>\n",
       "  <tbody>\n",
       "    <tr>\n",
       "      <th>MORT_30_AMI</th>\n",
       "      <td>194.2223</td>\n",
       "      <td>14.2179</td>\n",
       "      <td>11.2517</td>\n",
       "      <td>17.7680</td>\n",
       "      <td>0.1599</td>\n",
       "    </tr>\n",
       "    <tr>\n",
       "      <th>MORT_30_CABG</th>\n",
       "      <td>131.9449</td>\n",
       "      <td>3.2707</td>\n",
       "      <td>1.7215</td>\n",
       "      <td>6.0919</td>\n",
       "      <td>0.0415</td>\n",
       "    </tr>\n",
       "    <tr>\n",
       "      <th>MORT_30_COPD</th>\n",
       "      <td>207.2742</td>\n",
       "      <td>7.9839</td>\n",
       "      <td>5.7509</td>\n",
       "      <td>10.9850</td>\n",
       "      <td>0.0833</td>\n",
       "    </tr>\n",
       "    <tr>\n",
       "      <th>MORT_30_HF</th>\n",
       "      <td>263.0745</td>\n",
       "      <td>11.9640</td>\n",
       "      <td>9.1096</td>\n",
       "      <td>15.5652</td>\n",
       "      <td>0.1217</td>\n",
       "    </tr>\n",
       "    <tr>\n",
       "      <th>MORT_30_PN</th>\n",
       "      <td>282.6111</td>\n",
       "      <td>13.9784</td>\n",
       "      <td>10.8605</td>\n",
       "      <td>17.8528</td>\n",
       "      <td>0.1159</td>\n",
       "    </tr>\n",
       "    <tr>\n",
       "      <th>MORT_30_STK</th>\n",
       "      <td>181.1602</td>\n",
       "      <td>14.9663</td>\n",
       "      <td>11.5444</td>\n",
       "      <td>19.1423</td>\n",
       "      <td>0.1848</td>\n",
       "    </tr>\n",
       "    <tr>\n",
       "      <th>PSI_4_SURG_COMP</th>\n",
       "      <td>153.6484</td>\n",
       "      <td>77.2856</td>\n",
       "      <td>82.9346</td>\n",
       "      <td>167.6537</td>\n",
       "      <td>0.5244</td>\n",
       "    </tr>\n",
       "  </tbody>\n",
       "</table>\n",
       "</div>"
      ],
      "text/plain": [
       "                 Denominator   Score  Lower Estimate  Higher Estimate  Ratio\n",
       "Measure ID                                                                  \n",
       "MORT_30_AMI         194.2223 14.2179         11.2517          17.7680 0.1599\n",
       "MORT_30_CABG        131.9449  3.2707          1.7215           6.0919 0.0415\n",
       "MORT_30_COPD        207.2742  7.9839          5.7509          10.9850 0.0833\n",
       "MORT_30_HF          263.0745 11.9640          9.1096          15.5652 0.1217\n",
       "MORT_30_PN          282.6111 13.9784         10.8605          17.8528 0.1159\n",
       "MORT_30_STK         181.1602 14.9663         11.5444          19.1423 0.1848\n",
       "PSI_4_SURG_COMP     153.6484 77.2856         82.9346         167.6537 0.5244"
      ]
     },
     "execution_count": 11,
     "metadata": {},
     "output_type": "execute_result"
    }
   ],
   "source": [
    "Deathly_Complications= cd[cd['Measure Name'].str.contains('Death')|cd['Measure Name'].str.contains('Mortality') |cd['Measure Name'].str.contains('Deaths')].groupby('Measure ID')\n",
    "Deathly_Complications.mean()"
   ]
  },
  {
   "cell_type": "markdown",
   "metadata": {
    "collapsed": false,
    "deletable": true,
    "editable": true
   },
   "source": [
    "**2. Create the overview (Make sure that the overview is understandable to everyone.)**\n",
    "\n",
    "**Answer: ** In order to make the data easy for everyone to understand, I feel its visual respresentation is the key.The below pie chart shows the deathly complications and their respective ratios. We can conclude that, the highest contribution of the deaths is because of **'PSI_4_SURG_COMP'** i.e.**'Surgery Complications** which is approimately **43%**"
   ]
  },
  {
   "cell_type": "code",
   "execution_count": 12,
   "metadata": {
    "collapsed": false,
    "deletable": true,
    "editable": true
   },
   "outputs": [
    {
     "data": {
      "text/plain": [
       "<matplotlib.axes._subplots.AxesSubplot at 0xcc3d160>"
      ]
     },
     "execution_count": 12,
     "metadata": {},
     "output_type": "execute_result"
    },
    {
     "data": {
      "image/png": "[encoded data removed]",
      "text/plain": [
       "<matplotlib.figure.Figure at 0xcc3d9b0>"
      ]
     },
     "metadata": {},
     "output_type": "display_data"
    }
   ],
   "source": [
    "Deathly_Complications.mean().plot(kind='pie', y = 'Ratio',autopct='%1.1f%%',legend = False)"
   ]
  },
  {
   "cell_type": "markdown",
   "metadata": {
    "deletable": true,
    "editable": true
   },
   "source": [
    "**3.Choose an appropriate measure to aggregate the data. Ignore that the data is for multiple years**."
   ]
  },
  {
   "cell_type": "markdown",
   "metadata": {
    "deletable": true,
    "editable": true
   },
   "source": [
    "I decided to aggregate the data over Hospital name, Its mean and count of cases.\n",
    "Below code shows a random sample of 5 hospitals for showcase purpose."
   ]
  },
  {
   "cell_type": "code",
   "execution_count": 12,
   "metadata": {
    "collapsed": false,
    "deletable": true,
    "editable": true,
    "scrolled": true
   },
   "outputs": [
    {
     "data": {
      "text/html": [
       "<div>\n",
       "<style>\n",
       "    .dataframe thead tr:only-child th {\n",
       "        text-align: right;\n",
       "    }\n",
       "\n",
       "    .dataframe thead th {\n",
       "        text-align: left;\n",
       "    }\n",
       "\n",
       "    .dataframe tbody tr th {\n",
       "        vertical-align: top;\n",
       "    }\n",
       "</style>\n",
       "<table border=\"1\" class=\"dataframe\">\n",
       "  <thead>\n",
       "    <tr style=\"text-align: right;\">\n",
       "      <th></th>\n",
       "      <th>mean</th>\n",
       "      <th>count</th>\n",
       "    </tr>\n",
       "    <tr>\n",
       "      <th>Hospital Name</th>\n",
       "      <th></th>\n",
       "      <th></th>\n",
       "    </tr>\n",
       "  </thead>\n",
       "  <tbody>\n",
       "    <tr>\n",
       "      <th>TETON VALLEY HOSPITAL</th>\n",
       "      <td>0.3039</td>\n",
       "      <td>1</td>\n",
       "    </tr>\n",
       "    <tr>\n",
       "      <th>HARLINGEN MEDICAL CENTER</th>\n",
       "      <td>0.0656</td>\n",
       "      <td>86</td>\n",
       "    </tr>\n",
       "    <tr>\n",
       "      <th>ST FRANCIS HOSPITAL</th>\n",
       "      <td>0.1096</td>\n",
       "      <td>438</td>\n",
       "    </tr>\n",
       "    <tr>\n",
       "      <th>MARY HITCHCOCK MEMORIAL HOSPITAL</th>\n",
       "      <td>0.0363</td>\n",
       "      <td>89</td>\n",
       "    </tr>\n",
       "    <tr>\n",
       "      <th>CALDWELL MEMORIAL HOSPITAL</th>\n",
       "      <td>0.1101</td>\n",
       "      <td>97</td>\n",
       "    </tr>\n",
       "  </tbody>\n",
       "</table>\n",
       "</div>"
      ],
      "text/plain": [
       "                                   mean  count\n",
       "Hospital Name                                 \n",
       "TETON VALLEY HOSPITAL            0.3039      1\n",
       "HARLINGEN MEDICAL CENTER         0.0656     86\n",
       "ST FRANCIS HOSPITAL              0.1096    438\n",
       "MARY HITCHCOCK MEMORIAL HOSPITAL 0.0363     89\n",
       "CALDWELL MEMORIAL HOSPITAL       0.1101     97"
      ]
     },
     "execution_count": 12,
     "metadata": {},
     "output_type": "execute_result"
    }
   ],
   "source": [
    "cd.groupby('Hospital Name')['Ratio'].agg(['mean','count']).sample(5)"
   ]
  },
  {
   "cell_type": "markdown",
   "metadata": {
    "deletable": true,
    "editable": true
   },
   "source": [
    "**4. Sort with the highest ratio on top.**"
   ]
  },
  {
   "cell_type": "code",
   "execution_count": 11,
   "metadata": {
    "collapsed": false,
    "deletable": true,
    "editable": true
   },
   "outputs": [
    {
     "data": {
      "text/html": [
       "<div>\n",
       "<style>\n",
       "    .dataframe thead tr:only-child th {\n",
       "        text-align: right;\n",
       "    }\n",
       "\n",
       "    .dataframe thead th {\n",
       "        text-align: left;\n",
       "    }\n",
       "\n",
       "    .dataframe tbody tr th {\n",
       "        vertical-align: top;\n",
       "    }\n",
       "</style>\n",
       "<table border=\"1\" class=\"dataframe\">\n",
       "  <thead>\n",
       "    <tr style=\"text-align: right;\">\n",
       "      <th></th>\n",
       "      <th>Provider ID</th>\n",
       "      <th>Hospital Name</th>\n",
       "      <th>Address</th>\n",
       "      <th>City</th>\n",
       "      <th>ZIP Code</th>\n",
       "      <th>County Name</th>\n",
       "      <th>Phone Number</th>\n",
       "      <th>Year</th>\n",
       "      <th>Measure ID</th>\n",
       "      <th>Measure Name</th>\n",
       "      <th>Denominator</th>\n",
       "      <th>Score</th>\n",
       "      <th>Lower Estimate</th>\n",
       "      <th>Higher Estimate</th>\n",
       "      <th>Ratio</th>\n",
       "    </tr>\n",
       "  </thead>\n",
       "  <tbody>\n",
       "    <tr>\n",
       "      <th>168295</th>\n",
       "      <td>330236</td>\n",
       "      <td>NEW YORK METHODIST HOSPITAL</td>\n",
       "      <td>506 SIXTH STREET</td>\n",
       "      <td>BROOKLYN</td>\n",
       "      <td>11215</td>\n",
       "      <td>KINGS</td>\n",
       "      <td>7187803000</td>\n",
       "      <td>2014</td>\n",
       "      <td>PSI_4_SURG_COMP</td>\n",
       "      <td>Deaths among Patients with Serious Treatable C...</td>\n",
       "      <td>128.5000</td>\n",
       "      <td>128.4600</td>\n",
       "      <td>91.155</td>\n",
       "      <td>165.76</td>\n",
       "      <td>0.9997</td>\n",
       "    </tr>\n",
       "    <tr>\n",
       "      <th>80643</th>\n",
       "      <td>150002</td>\n",
       "      <td>METHODIST HOSPITALS INC</td>\n",
       "      <td>600 GRANT ST</td>\n",
       "      <td>GARY</td>\n",
       "      <td>46402</td>\n",
       "      <td>LAKE</td>\n",
       "      <td>2198864642</td>\n",
       "      <td>2012</td>\n",
       "      <td>PSI_4_SURG_COMP</td>\n",
       "      <td>Deaths among Patients with Serious Treatable C...</td>\n",
       "      <td>136.0000</td>\n",
       "      <td>135.8600</td>\n",
       "      <td>98.57</td>\n",
       "      <td>173.15</td>\n",
       "      <td>0.9990</td>\n",
       "    </tr>\n",
       "    <tr>\n",
       "      <th>186942</th>\n",
       "      <td>360145</td>\n",
       "      <td>UNIVERSITY HOSPITALS - ELYRIA MEDICAL CENTER</td>\n",
       "      <td>630 EAST RIVER STREET</td>\n",
       "      <td>ELYRIA</td>\n",
       "      <td>44035</td>\n",
       "      <td>LORAIN</td>\n",
       "      <td>4403297500</td>\n",
       "      <td>2012</td>\n",
       "      <td>PSI_4_SURG_COMP</td>\n",
       "      <td>Deaths among Patients with Serious Treatable C...</td>\n",
       "      <td>88.1000</td>\n",
       "      <td>88.0000</td>\n",
       "      <td>45.91</td>\n",
       "      <td>130.29</td>\n",
       "      <td>0.9989</td>\n",
       "    </tr>\n",
       "    <tr>\n",
       "      <th>69534</th>\n",
       "      <td>140015</td>\n",
       "      <td>BLESSING HOSPITAL</td>\n",
       "      <td>BROADWAY AT 11TH STREET</td>\n",
       "      <td>QUINCY</td>\n",
       "      <td>62301</td>\n",
       "      <td>ADAMS</td>\n",
       "      <td>2172235811</td>\n",
       "      <td>2013</td>\n",
       "      <td>PSI_4_SURG_COMP</td>\n",
       "      <td>Deaths among Patients with Serious Treatable C...</td>\n",
       "      <td>124.0000</td>\n",
       "      <td>123.8500</td>\n",
       "      <td>86.43</td>\n",
       "      <td>161.26999999999998</td>\n",
       "      <td>0.9988</td>\n",
       "    </tr>\n",
       "    <tr>\n",
       "      <th>54702</th>\n",
       "      <td>100243</td>\n",
       "      <td>BRANDON REGIONAL HOSPITAL</td>\n",
       "      <td>119 OAKFIELD DR</td>\n",
       "      <td>BRANDON</td>\n",
       "      <td>33511</td>\n",
       "      <td>HILLSBOROUGH</td>\n",
       "      <td>8136815551</td>\n",
       "      <td>2014</td>\n",
       "      <td>PSI_4_SURG_COMP</td>\n",
       "      <td>Deaths among Patients with Serious Treatable C...</td>\n",
       "      <td>107.1300</td>\n",
       "      <td>107.0000</td>\n",
       "      <td>64.695</td>\n",
       "      <td>149.565</td>\n",
       "      <td>0.9988</td>\n",
       "    </tr>\n",
       "  </tbody>\n",
       "</table>\n",
       "</div>"
      ],
      "text/plain": [
       "       Provider ID                                 Hospital Name  \\\n",
       "168295      330236                   NEW YORK METHODIST HOSPITAL   \n",
       "80643       150002                       METHODIST HOSPITALS INC   \n",
       "186942      360145  UNIVERSITY HOSPITALS - ELYRIA MEDICAL CENTER   \n",
       "69534       140015                             BLESSING HOSPITAL   \n",
       "54702       100243                     BRANDON REGIONAL HOSPITAL   \n",
       "\n",
       "                        Address      City ZIP Code   County Name Phone Number  \\\n",
       "168295         506 SIXTH STREET  BROOKLYN    11215         KINGS   7187803000   \n",
       "80643              600 GRANT ST      GARY    46402          LAKE   2198864642   \n",
       "186942    630 EAST RIVER STREET    ELYRIA    44035        LORAIN   4403297500   \n",
       "69534   BROADWAY AT 11TH STREET    QUINCY    62301         ADAMS   2172235811   \n",
       "54702           119 OAKFIELD DR   BRANDON    33511  HILLSBOROUGH   8136815551   \n",
       "\n",
       "        Year       Measure ID  \\\n",
       "168295  2014  PSI_4_SURG_COMP   \n",
       "80643   2012  PSI_4_SURG_COMP   \n",
       "186942  2012  PSI_4_SURG_COMP   \n",
       "69534   2013  PSI_4_SURG_COMP   \n",
       "54702   2014  PSI_4_SURG_COMP   \n",
       "\n",
       "                                             Measure Name  Denominator  \\\n",
       "168295  Deaths among Patients with Serious Treatable C...     128.5000   \n",
       "80643   Deaths among Patients with Serious Treatable C...     136.0000   \n",
       "186942  Deaths among Patients with Serious Treatable C...      88.1000   \n",
       "69534   Deaths among Patients with Serious Treatable C...     124.0000   \n",
       "54702   Deaths among Patients with Serious Treatable C...     107.1300   \n",
       "\n",
       "          Score Lower Estimate     Higher Estimate  Ratio  \n",
       "168295 128.4600         91.155              165.76 0.9997  \n",
       "80643  135.8600          98.57              173.15 0.9990  \n",
       "186942  88.0000          45.91              130.29 0.9989  \n",
       "69534  123.8500          86.43  161.26999999999998 0.9988  \n",
       "54702  107.0000         64.695             149.565 0.9988  "
      ]
     },
     "execution_count": 11,
     "metadata": {},
     "output_type": "execute_result"
    }
   ],
   "source": [
    "cd.sort_values(['Ratio'], ascending=[False]).head(5)"
   ]
  },
  {
   "cell_type": "markdown",
   "metadata": {
    "ExecuteTime": {
     "end_time": "2018-02-09T01:37:40.834697Z",
     "start_time": "2018-02-09T01:37:40.831044Z"
    },
    "deletable": true,
    "editable": true
   },
   "source": [
    "# Identify the five safest hospitals"
   ]
  },
  {
   "cell_type": "markdown",
   "metadata": {
    "deletable": true,
    "editable": true
   },
   "source": [
    "Return a **list** with the hospitals that have, on average, the lowest rate of deadly complications. **Be careful when you identify 'deathly' complications.** (Again, ignore that the dataset covers multiple years)."
   ]
  },
  {
   "cell_type": "markdown",
   "metadata": {
    "deletable": true,
    "editable": true
   },
   "source": [
    "Here, I have computed mean of the Ratio of the given data set where in data is grouped by Hospital names."
   ]
  },
  {
   "cell_type": "code",
   "execution_count": 343,
   "metadata": {
    "collapsed": false,
    "deletable": true,
    "editable": true
   },
   "outputs": [
    {
     "data": {
      "text/plain": [
       "Hospital Name\n",
       "STRAITH HOSPITAL FOR SPECIAL SURGERY               0.0007\n",
       "WINIFRED MASTERSON BURKE REHABILITATION HOSPITAL   0.0008\n",
       "HELEN HAYES HOSPITAL                               0.0008\n",
       "SUNNYVIEW HOSPITAL AND REHABILITATION CENTER       0.0009\n",
       "GLENBEIGH HEALTH SOURCES                           0.0010\n",
       "Name: Ratio, dtype: float64"
      ]
     },
     "execution_count": 343,
     "metadata": {},
     "output_type": "execute_result"
    }
   ],
   "source": [
    "cd.groupby('Hospital Name')['Ratio'].mean().nsmallest(5)"
   ]
  },
  {
   "cell_type": "markdown",
   "metadata": {
    "ExecuteTime": {
     "end_time": "2018-02-09T01:54:20.635175Z",
     "start_time": "2018-02-09T01:54:20.626192Z"
    },
    "deletable": true,
    "editable": true
   },
   "source": [
    "# Augment the datset with information about the state"
   ]
  },
  {
   "cell_type": "markdown",
   "metadata": {
    "ExecuteTime": {
     "end_time": "2018-02-09T01:55:10.296708Z",
     "start_time": "2018-02-09T01:55:10.285834Z"
    },
    "deletable": true,
    "editable": true
   },
   "source": [
    "Read the file `geo-data.csv` into an object `zip_codes`. **Make sure that you read all columns as string.** ([Link](https://github.com/scpike/us-state-county-zip))"
   ]
  },
  {
   "cell_type": "code",
   "execution_count": 19,
   "metadata": {
    "collapsed": false,
    "deletable": true,
    "editable": true
   },
   "outputs": [],
   "source": [
    "zip_codes= pd.read_csv('geo-data.csv', dtype=str).rename(columns=lambda x: x.strip())\n"
   ]
  },
  {
   "cell_type": "markdown",
   "metadata": {
    "deletable": true,
    "editable": true
   },
   "source": [
    "This file contains information about the relationship of zip codes, counties, and U.S. states. "
   ]
  },
  {
   "cell_type": "code",
   "execution_count": 20,
   "metadata": {
    "ExecuteTime": {
     "end_time": "2018-02-09T02:35:13.640199Z",
     "start_time": "2018-02-09T02:35:13.627558Z"
    },
    "collapsed": false,
    "deletable": true,
    "editable": true
   },
   "outputs": [
    {
     "data": {
      "text/plain": [
       "Index([u'state_fips', u'state', u'state_abbr', u'zipcode', u'county', u'city'], dtype='object')"
      ]
     },
     "execution_count": 20,
     "metadata": {},
     "output_type": "execute_result"
    }
   ],
   "source": [
    "zip_codes.columns"
   ]
  },
  {
   "cell_type": "markdown",
   "metadata": {
    "deletable": true,
    "editable": true
   },
   "source": [
    "| Column Name | Description|\n",
    "|-------------|------------|\n",
    "|state_fips | FIPS code for the state |\n",
    "|state| Name of the state|\n",
    "|state_abbr| Abbreviation of the state|\n",
    "|zipcode | Postal code|\n",
    "|county | County name|\n",
    "|city | City name  |"
   ]
  },
  {
   "cell_type": "markdown",
   "metadata": {
    "deletable": true,
    "editable": true
   },
   "source": [
    "1. Combine the dataset on complications with the dateset on zip codes.\n",
    "2. Explain why you chose the column that used to combine the datasets.\n",
    "3. **Do not worry, not all states will be matched.**"
   ]
  },
  {
   "cell_type": "markdown",
   "metadata": {
    "deletable": true,
    "editable": true
   },
   "source": [
    "I have merged two datasets on the zip code column. As the other common column was the 'county' and 'city'. Since the 'cd data set' has all the county and city names in upper case, It is difficult to merge them with 'zip_codes dataset' (If I want to do so, first I will have to change the case for the entire series.)"
   ]
  },
  {
   "cell_type": "code",
   "execution_count": 30,
   "metadata": {
    "collapsed": false,
    "deletable": true,
    "editable": true
   },
   "outputs": [
    {
     "data": {
      "text/html": [
       "<div>\n",
       "<style>\n",
       "    .dataframe thead tr:only-child th {\n",
       "        text-align: right;\n",
       "    }\n",
       "\n",
       "    .dataframe thead th {\n",
       "        text-align: left;\n",
       "    }\n",
       "\n",
       "    .dataframe tbody tr th {\n",
       "        vertical-align: top;\n",
       "    }\n",
       "</style>\n",
       "<table border=\"1\" class=\"dataframe\">\n",
       "  <thead>\n",
       "    <tr style=\"text-align: right;\">\n",
       "      <th></th>\n",
       "      <th>Provider ID</th>\n",
       "      <th>Hospital Name</th>\n",
       "      <th>Address</th>\n",
       "      <th>City</th>\n",
       "      <th>ZIP Code</th>\n",
       "      <th>County Name</th>\n",
       "      <th>Phone Number</th>\n",
       "      <th>Year</th>\n",
       "      <th>Measure ID</th>\n",
       "      <th>Measure Name</th>\n",
       "      <th>...</th>\n",
       "      <th>Score</th>\n",
       "      <th>Lower Estimate</th>\n",
       "      <th>Higher Estimate</th>\n",
       "      <th>Ratio</th>\n",
       "      <th>state_fips</th>\n",
       "      <th>state</th>\n",
       "      <th>state_abbr</th>\n",
       "      <th>zipcode</th>\n",
       "      <th>county</th>\n",
       "      <th>city</th>\n",
       "    </tr>\n",
       "  </thead>\n",
       "  <tbody>\n",
       "    <tr>\n",
       "      <th>247242</th>\n",
       "      <td>460041</td>\n",
       "      <td>DAVIS HOSPITAL AND MEDICAL CENTER</td>\n",
       "      <td>1600 WEST ANTELOPE DRIVE</td>\n",
       "      <td>LAYTON</td>\n",
       "      <td>84041</td>\n",
       "      <td>DAVIS</td>\n",
       "      <td>8018071000</td>\n",
       "      <td>2011</td>\n",
       "      <td>READM_30_STK</td>\n",
       "      <td>Rate of unplanned readmission for stroke patients</td>\n",
       "      <td>...</td>\n",
       "      <td>13.4000</td>\n",
       "      <td>10.1</td>\n",
       "      <td>17.8</td>\n",
       "      <td>0.2481</td>\n",
       "      <td>49</td>\n",
       "      <td>Utah</td>\n",
       "      <td>UT</td>\n",
       "      <td>84041</td>\n",
       "      <td>Davis</td>\n",
       "      <td>Layton</td>\n",
       "    </tr>\n",
       "    <tr>\n",
       "      <th>265180</th>\n",
       "      <td>520070</td>\n",
       "      <td>MAYO CLINIC HEALTH SYSTEM EAU CLAIRE HOSPITAL</td>\n",
       "      <td>1221 WHIPPLE ST</td>\n",
       "      <td>EAU CLAIRE</td>\n",
       "      <td>54703</td>\n",
       "      <td>EAU CLAIRE</td>\n",
       "      <td>7158383311</td>\n",
       "      <td>2012</td>\n",
       "      <td>READM_30_PN</td>\n",
       "      <td>Pneumonia (PN) 30-Day Readmission Rate</td>\n",
       "      <td>...</td>\n",
       "      <td>17.3000</td>\n",
       "      <td>14.8</td>\n",
       "      <td>20.1</td>\n",
       "      <td>0.0447</td>\n",
       "      <td>55</td>\n",
       "      <td>Wisconsin</td>\n",
       "      <td>WI</td>\n",
       "      <td>54703</td>\n",
       "      <td>Eau Claire</td>\n",
       "      <td>Eau claire</td>\n",
       "    </tr>\n",
       "    <tr>\n",
       "      <th>151007</th>\n",
       "      <td>300017</td>\n",
       "      <td>PARKLAND MEDICAL CENTER</td>\n",
       "      <td>1 PARKLAND DRIVE</td>\n",
       "      <td>DERRY</td>\n",
       "      <td>03038</td>\n",
       "      <td>ROCKINGHAM</td>\n",
       "      <td>6034212100</td>\n",
       "      <td>2013</td>\n",
       "      <td>READM_30_AMI</td>\n",
       "      <td>Acute Myocardial Infarction (AMI) 30-Day Readm...</td>\n",
       "      <td>...</td>\n",
       "      <td>18.4000</td>\n",
       "      <td>15.4</td>\n",
       "      <td>21.8</td>\n",
       "      <td>0.1688</td>\n",
       "      <td>NaN</td>\n",
       "      <td>NaN</td>\n",
       "      <td>NaN</td>\n",
       "      <td>NaN</td>\n",
       "      <td>NaN</td>\n",
       "      <td>NaN</td>\n",
       "    </tr>\n",
       "    <tr>\n",
       "      <th>68179</th>\n",
       "      <td>130049</td>\n",
       "      <td>KOOTENAI MEDICAL CENTER</td>\n",
       "      <td>2003 KOOTENAI HEALTH WAY</td>\n",
       "      <td>COEUR D'ALENE</td>\n",
       "      <td>83814</td>\n",
       "      <td>KOOTENAI</td>\n",
       "      <td>2086254001</td>\n",
       "      <td>2012</td>\n",
       "      <td>PSI_15_ACC_LAC</td>\n",
       "      <td>Accidental cuts and tears from medical treatment</td>\n",
       "      <td>...</td>\n",
       "      <td>2.4200</td>\n",
       "      <td>1.53</td>\n",
       "      <td>3.31</td>\n",
       "      <td>0.0003</td>\n",
       "      <td>16</td>\n",
       "      <td>Idaho</td>\n",
       "      <td>ID</td>\n",
       "      <td>83814</td>\n",
       "      <td>Kootenai</td>\n",
       "      <td>Coeur d alene</td>\n",
       "    </tr>\n",
       "    <tr>\n",
       "      <th>8098</th>\n",
       "      <td>030061</td>\n",
       "      <td>BANNER BOSWELL MEDICAL CENTER</td>\n",
       "      <td>10401 WEST THUNDERBIRD BOULEVARD</td>\n",
       "      <td>SUN CITY</td>\n",
       "      <td>85351</td>\n",
       "      <td>MARICOPA</td>\n",
       "      <td>6239777211</td>\n",
       "      <td>2012</td>\n",
       "      <td>PSI_15_ACC_LAC</td>\n",
       "      <td>Accidental cuts and tears from medical treatment</td>\n",
       "      <td>...</td>\n",
       "      <td>1.2700</td>\n",
       "      <td>0.54</td>\n",
       "      <td>1.99</td>\n",
       "      <td>0.0001</td>\n",
       "      <td>4</td>\n",
       "      <td>Arizona</td>\n",
       "      <td>AZ</td>\n",
       "      <td>85351</td>\n",
       "      <td>Maricopa</td>\n",
       "      <td>Sun city</td>\n",
       "    </tr>\n",
       "  </tbody>\n",
       "</table>\n",
       "<p>5 rows × 21 columns</p>\n",
       "</div>"
      ],
      "text/plain": [
       "       Provider ID                                  Hospital Name  \\\n",
       "247242      460041              DAVIS HOSPITAL AND MEDICAL CENTER   \n",
       "265180      520070  MAYO CLINIC HEALTH SYSTEM EAU CLAIRE HOSPITAL   \n",
       "151007      300017                        PARKLAND MEDICAL CENTER   \n",
       "68179       130049                        KOOTENAI MEDICAL CENTER   \n",
       "8098        030061                  BANNER BOSWELL MEDICAL CENTER   \n",
       "\n",
       "                                 Address           City ZIP Code County Name  \\\n",
       "247242          1600 WEST ANTELOPE DRIVE         LAYTON    84041       DAVIS   \n",
       "265180                   1221 WHIPPLE ST     EAU CLAIRE    54703  EAU CLAIRE   \n",
       "151007                  1 PARKLAND DRIVE          DERRY    03038  ROCKINGHAM   \n",
       "68179           2003 KOOTENAI HEALTH WAY  COEUR D'ALENE    83814    KOOTENAI   \n",
       "8098    10401 WEST THUNDERBIRD BOULEVARD       SUN CITY    85351    MARICOPA   \n",
       "\n",
       "       Phone Number  Year      Measure ID  \\\n",
       "247242   8018071000  2011    READM_30_STK   \n",
       "265180   7158383311  2012     READM_30_PN   \n",
       "151007   6034212100  2013    READM_30_AMI   \n",
       "68179    2086254001  2012  PSI_15_ACC_LAC   \n",
       "8098     6239777211  2012  PSI_15_ACC_LAC   \n",
       "\n",
       "                                             Measure Name      ...        \\\n",
       "247242  Rate of unplanned readmission for stroke patients      ...         \n",
       "265180             Pneumonia (PN) 30-Day Readmission Rate      ...         \n",
       "151007  Acute Myocardial Infarction (AMI) 30-Day Readm...      ...         \n",
       "68179    Accidental cuts and tears from medical treatment      ...         \n",
       "8098     Accidental cuts and tears from medical treatment      ...         \n",
       "\n",
       "         Score  Lower Estimate Higher Estimate  Ratio  state_fips      state  \\\n",
       "247242 13.4000            10.1            17.8 0.2481          49       Utah   \n",
       "265180 17.3000            14.8            20.1 0.0447          55  Wisconsin   \n",
       "151007 18.4000            15.4            21.8 0.1688         NaN        NaN   \n",
       "68179   2.4200            1.53            3.31 0.0003          16      Idaho   \n",
       "8098    1.2700            0.54            1.99 0.0001           4    Arizona   \n",
       "\n",
       "       state_abbr zipcode      county           city  \n",
       "247242         UT   84041       Davis         Layton  \n",
       "265180         WI   54703  Eau Claire     Eau claire  \n",
       "151007        NaN     NaN         NaN            NaN  \n",
       "68179          ID   83814    Kootenai  Coeur d alene  \n",
       "8098           AZ   85351    Maricopa       Sun city  \n",
       "\n",
       "[5 rows x 21 columns]"
      ]
     },
     "execution_count": 30,
     "metadata": {},
     "output_type": "execute_result"
    }
   ],
   "source": [
    "Merged_Data =cd.merge(zip_codes, left_on=['ZIP Code'], right_on=['zipcode'], how='left')\n",
    "Merged_Data.sample(5, random_state=1234).head()"
   ]
  },
  {
   "cell_type": "markdown",
   "metadata": {
    "ExecuteTime": {
     "end_time": "2018-02-09T02:01:36.232035Z",
     "start_time": "2018-02-09T02:01:36.225785Z"
    },
    "deletable": true,
    "editable": true
   },
   "source": [
    "# Create an overview of the complications per U.S. state"
   ]
  },
  {
   "cell_type": "markdown",
   "metadata": {
    "deletable": true,
    "editable": true
   },
   "source": [
    "* Return a sorted list with the overall complication rate per state. \n",
    "* Ignore that the data is for multiple years. \n",
    "* Focus on the **best** ten states."
   ]
  },
  {
   "cell_type": "markdown",
   "metadata": {
    "deletable": true,
    "editable": true
   },
   "source": [
    "**Assumption: ** Here I have assumed that, We need one entry per hospital and to get that, we need to ignore the data for multiple years.\n",
    "\n",
    "Here, I tried to get those observations which have some or other complication codes attached to them. \n",
    "In order to ignore data for multiple years,  I have used drop duplicate function. Sorted the data set on years as every hospital has multiple year's data. To get best 10 hospitals, we would require just one entry of hospital."
   ]
  },
  {
   "cell_type": "code",
   "execution_count": 168,
   "metadata": {
    "collapsed": false,
    "deletable": true,
    "editable": true
   },
   "outputs": [
    {
     "data": {
      "text/html": [
       "<div>\n",
       "<style>\n",
       "    .dataframe thead tr:only-child th {\n",
       "        text-align: right;\n",
       "    }\n",
       "\n",
       "    .dataframe thead th {\n",
       "        text-align: left;\n",
       "    }\n",
       "\n",
       "    .dataframe tbody tr th {\n",
       "        vertical-align: top;\n",
       "    }\n",
       "</style>\n",
       "<table border=\"1\" class=\"dataframe\">\n",
       "  <thead>\n",
       "    <tr style=\"text-align: right;\">\n",
       "      <th></th>\n",
       "      <th>Provider ID</th>\n",
       "      <th>Hospital Name</th>\n",
       "      <th>Address</th>\n",
       "      <th>City</th>\n",
       "      <th>ZIP Code</th>\n",
       "      <th>County Name</th>\n",
       "      <th>Phone Number</th>\n",
       "      <th>Year</th>\n",
       "      <th>Measure ID</th>\n",
       "      <th>Measure Name</th>\n",
       "      <th>...</th>\n",
       "      <th>Score</th>\n",
       "      <th>Lower Estimate</th>\n",
       "      <th>Higher Estimate</th>\n",
       "      <th>Ratio</th>\n",
       "      <th>state_fips</th>\n",
       "      <th>state</th>\n",
       "      <th>state_abbr</th>\n",
       "      <th>zipcode</th>\n",
       "      <th>county</th>\n",
       "      <th>city</th>\n",
       "    </tr>\n",
       "  </thead>\n",
       "  <tbody>\n",
       "    <tr>\n",
       "      <th>0</th>\n",
       "      <td>010001</td>\n",
       "      <td>SOUTHEAST ALABAMA MEDICAL CENTER</td>\n",
       "      <td>1108 ROSS CLARK CIRCLE</td>\n",
       "      <td>DOTHAN</td>\n",
       "      <td>36301</td>\n",
       "      <td>HOUSTON</td>\n",
       "      <td>3347938701</td>\n",
       "      <td>2011</td>\n",
       "      <td>COMP_HIP_KNEE</td>\n",
       "      <td>Rate of complications for hip/knee replacement...</td>\n",
       "      <td>...</td>\n",
       "      <td>3.7000</td>\n",
       "      <td>2.5</td>\n",
       "      <td>5.5</td>\n",
       "      <td>0.0104</td>\n",
       "      <td>1</td>\n",
       "      <td>Alabama</td>\n",
       "      <td>AL</td>\n",
       "      <td>36301</td>\n",
       "      <td>Houston</td>\n",
       "      <td>Taylor</td>\n",
       "    </tr>\n",
       "    <tr>\n",
       "      <th>175</th>\n",
       "      <td>010006</td>\n",
       "      <td>ELIZA COFFEE MEMORIAL HOSPITAL</td>\n",
       "      <td>205 MARENGO STREET</td>\n",
       "      <td>FLORENCE</td>\n",
       "      <td>35631</td>\n",
       "      <td>LAUDERDALE</td>\n",
       "      <td>2567688400</td>\n",
       "      <td>2011</td>\n",
       "      <td>COMP_HIP_KNEE</td>\n",
       "      <td>Rate of complications for hip/knee replacement...</td>\n",
       "      <td>...</td>\n",
       "      <td>3.2000</td>\n",
       "      <td>2.1</td>\n",
       "      <td>4.8</td>\n",
       "      <td>0.0087</td>\n",
       "      <td>NaN</td>\n",
       "      <td>NaN</td>\n",
       "      <td>NaN</td>\n",
       "      <td>NaN</td>\n",
       "      <td>NaN</td>\n",
       "      <td>NaN</td>\n",
       "    </tr>\n",
       "    <tr>\n",
       "      <th>5665</th>\n",
       "      <td>020001</td>\n",
       "      <td>PROVIDENCE ALASKA MEDICAL CENTER</td>\n",
       "      <td>BOX 196604</td>\n",
       "      <td>ANCHORAGE</td>\n",
       "      <td>99508</td>\n",
       "      <td>ANCHORAGE</td>\n",
       "      <td>9072613675</td>\n",
       "      <td>2011</td>\n",
       "      <td>COMP_HIP_KNEE</td>\n",
       "      <td>Rate of complications for hip/knee replacement...</td>\n",
       "      <td>...</td>\n",
       "      <td>3.8000</td>\n",
       "      <td>2.5</td>\n",
       "      <td>5.6</td>\n",
       "      <td>0.0104</td>\n",
       "      <td>2</td>\n",
       "      <td>Alaska</td>\n",
       "      <td>AK</td>\n",
       "      <td>99508</td>\n",
       "      <td>Anchorage Borough</td>\n",
       "      <td>Anchorage</td>\n",
       "    </tr>\n",
       "    <tr>\n",
       "      <th>6453</th>\n",
       "      <td>030002</td>\n",
       "      <td>BANNER GOOD SAMARITAN MEDICAL CENTER</td>\n",
       "      <td>1111 EAST MCDOWELL ROAD</td>\n",
       "      <td>PHOENIX</td>\n",
       "      <td>85006</td>\n",
       "      <td>MARICOPA</td>\n",
       "      <td>6022392000</td>\n",
       "      <td>2011</td>\n",
       "      <td>COMP_HIP_KNEE</td>\n",
       "      <td>Rate of complications for hip/knee replacement...</td>\n",
       "      <td>...</td>\n",
       "      <td>3.2000</td>\n",
       "      <td>2.1</td>\n",
       "      <td>4.7</td>\n",
       "      <td>0.0089</td>\n",
       "      <td>4</td>\n",
       "      <td>Arizona</td>\n",
       "      <td>AZ</td>\n",
       "      <td>85006</td>\n",
       "      <td>Maricopa</td>\n",
       "      <td>Phoenix</td>\n",
       "    </tr>\n",
       "    <tr>\n",
       "      <th>11119</th>\n",
       "      <td>040002</td>\n",
       "      <td>JOHNSON REGIONAL MEDICAL CENTER</td>\n",
       "      <td>1100 EAST POPLAR STREET</td>\n",
       "      <td>CLARKSVILLE</td>\n",
       "      <td>72830</td>\n",
       "      <td>JOHNSON</td>\n",
       "      <td>4797545454</td>\n",
       "      <td>2011</td>\n",
       "      <td>COMP_HIP_KNEE</td>\n",
       "      <td>Rate of complications for hip/knee replacement...</td>\n",
       "      <td>...</td>\n",
       "      <td>3.5000</td>\n",
       "      <td>2.0</td>\n",
       "      <td>6.0</td>\n",
       "      <td>0.0897</td>\n",
       "      <td>5</td>\n",
       "      <td>Arkansas</td>\n",
       "      <td>AR</td>\n",
       "      <td>72830</td>\n",
       "      <td>Johnson</td>\n",
       "      <td>Clarksville</td>\n",
       "    </tr>\n",
       "    <tr>\n",
       "      <th>15082</th>\n",
       "      <td>050002</td>\n",
       "      <td>ST ROSE HOSPITAL</td>\n",
       "      <td>27200 CALAROGA AVE</td>\n",
       "      <td>HAYWARD</td>\n",
       "      <td>94545</td>\n",
       "      <td>ALAMEDA</td>\n",
       "      <td>5107826200</td>\n",
       "      <td>2011</td>\n",
       "      <td>COMP_HIP_KNEE</td>\n",
       "      <td>Rate of complications for hip/knee replacement...</td>\n",
       "      <td>...</td>\n",
       "      <td>3.4000</td>\n",
       "      <td>2.0</td>\n",
       "      <td>5.8</td>\n",
       "      <td>0.0420</td>\n",
       "      <td>6</td>\n",
       "      <td>California</td>\n",
       "      <td>CA</td>\n",
       "      <td>94545</td>\n",
       "      <td>Alameda</td>\n",
       "      <td>Hayward</td>\n",
       "    </tr>\n",
       "    <tr>\n",
       "      <th>36809</th>\n",
       "      <td>060001</td>\n",
       "      <td>NORTH COLORADO MEDICAL CENTER</td>\n",
       "      <td>1801 16TH STREET</td>\n",
       "      <td>GREELEY</td>\n",
       "      <td>80631</td>\n",
       "      <td>WELD</td>\n",
       "      <td>9703524121</td>\n",
       "      <td>2011</td>\n",
       "      <td>COMP_HIP_KNEE</td>\n",
       "      <td>Rate of complications for hip/knee replacement...</td>\n",
       "      <td>...</td>\n",
       "      <td>5.3000</td>\n",
       "      <td>3.7</td>\n",
       "      <td>7.7</td>\n",
       "      <td>0.0183</td>\n",
       "      <td>8</td>\n",
       "      <td>Colorado</td>\n",
       "      <td>CO</td>\n",
       "      <td>80631</td>\n",
       "      <td>Weld</td>\n",
       "      <td>Garden city</td>\n",
       "    </tr>\n",
       "    <tr>\n",
       "      <th>43309</th>\n",
       "      <td>080003</td>\n",
       "      <td>ST FRANCIS HOSPITAL</td>\n",
       "      <td>7TH AND CLAYTON STS</td>\n",
       "      <td>WILMINGTON</td>\n",
       "      <td>19805</td>\n",
       "      <td>NEW CASTLE</td>\n",
       "      <td>3024214100</td>\n",
       "      <td>2011</td>\n",
       "      <td>COMP_HIP_KNEE</td>\n",
       "      <td>Rate of complications for hip/knee replacement...</td>\n",
       "      <td>...</td>\n",
       "      <td>3.4000</td>\n",
       "      <td>2.0</td>\n",
       "      <td>5.8</td>\n",
       "      <td>0.1030</td>\n",
       "      <td>10</td>\n",
       "      <td>Delaware</td>\n",
       "      <td>DE</td>\n",
       "      <td>19805</td>\n",
       "      <td>New Castle</td>\n",
       "      <td>Wilmington</td>\n",
       "    </tr>\n",
       "    <tr>\n",
       "      <th>43390</th>\n",
       "      <td>080004</td>\n",
       "      <td>BAYHEALTH - KENT GENERAL HOSPITAL</td>\n",
       "      <td>640 S STATE STREET</td>\n",
       "      <td>DOVER</td>\n",
       "      <td>19901</td>\n",
       "      <td>KENT</td>\n",
       "      <td>3027447001</td>\n",
       "      <td>2011</td>\n",
       "      <td>COMP_HIP_KNEE</td>\n",
       "      <td>Rate of complications for hip/knee replacement...</td>\n",
       "      <td>...</td>\n",
       "      <td>4.0000</td>\n",
       "      <td>2.8</td>\n",
       "      <td>5.7</td>\n",
       "      <td>0.0083</td>\n",
       "      <td>10</td>\n",
       "      <td>Delaware</td>\n",
       "      <td>DE</td>\n",
       "      <td>19901</td>\n",
       "      <td>Kent</td>\n",
       "      <td>Dover</td>\n",
       "    </tr>\n",
       "    <tr>\n",
       "      <th>43752</th>\n",
       "      <td>090001</td>\n",
       "      <td>GEORGE WASHINGTON UNIV HOSPITAL</td>\n",
       "      <td>900 23RD ST NW</td>\n",
       "      <td>WASHINGTON</td>\n",
       "      <td>20037</td>\n",
       "      <td>DISTRICT OF COLUMBIA</td>\n",
       "      <td>2027164605</td>\n",
       "      <td>2011</td>\n",
       "      <td>COMP_HIP_KNEE</td>\n",
       "      <td>Rate of complications for hip/knee replacement...</td>\n",
       "      <td>...</td>\n",
       "      <td>2.9000</td>\n",
       "      <td>1.7</td>\n",
       "      <td>4.8</td>\n",
       "      <td>0.0184</td>\n",
       "      <td>11</td>\n",
       "      <td>District of columbia</td>\n",
       "      <td>DC</td>\n",
       "      <td>20037</td>\n",
       "      <td>District of Columbia</td>\n",
       "      <td>Washington</td>\n",
       "    </tr>\n",
       "  </tbody>\n",
       "</table>\n",
       "<p>10 rows × 21 columns</p>\n",
       "</div>"
      ],
      "text/plain": [
       "      Provider ID                         Hospital Name  \\\n",
       "0          010001      SOUTHEAST ALABAMA MEDICAL CENTER   \n",
       "175        010006        ELIZA COFFEE MEMORIAL HOSPITAL   \n",
       "5665       020001      PROVIDENCE ALASKA MEDICAL CENTER   \n",
       "6453       030002  BANNER GOOD SAMARITAN MEDICAL CENTER   \n",
       "11119      040002       JOHNSON REGIONAL MEDICAL CENTER   \n",
       "15082      050002                      ST ROSE HOSPITAL   \n",
       "36809      060001         NORTH COLORADO MEDICAL CENTER   \n",
       "43309      080003                   ST FRANCIS HOSPITAL   \n",
       "43390      080004     BAYHEALTH - KENT GENERAL HOSPITAL   \n",
       "43752      090001       GEORGE WASHINGTON UNIV HOSPITAL   \n",
       "\n",
       "                       Address         City ZIP Code           County Name  \\\n",
       "0       1108 ROSS CLARK CIRCLE       DOTHAN    36301               HOUSTON   \n",
       "175         205 MARENGO STREET     FLORENCE    35631            LAUDERDALE   \n",
       "5665                BOX 196604    ANCHORAGE    99508             ANCHORAGE   \n",
       "6453   1111 EAST MCDOWELL ROAD      PHOENIX    85006              MARICOPA   \n",
       "11119  1100 EAST POPLAR STREET  CLARKSVILLE    72830               JOHNSON   \n",
       "15082       27200 CALAROGA AVE      HAYWARD    94545               ALAMEDA   \n",
       "36809         1801 16TH STREET      GREELEY    80631                  WELD   \n",
       "43309      7TH AND CLAYTON STS   WILMINGTON    19805            NEW CASTLE   \n",
       "43390       640 S STATE STREET        DOVER    19901                  KENT   \n",
       "43752           900 23RD ST NW   WASHINGTON    20037  DISTRICT OF COLUMBIA   \n",
       "\n",
       "      Phone Number  Year     Measure ID  \\\n",
       "0       3347938701  2011  COMP_HIP_KNEE   \n",
       "175     2567688400  2011  COMP_HIP_KNEE   \n",
       "5665    9072613675  2011  COMP_HIP_KNEE   \n",
       "6453    6022392000  2011  COMP_HIP_KNEE   \n",
       "11119   4797545454  2011  COMP_HIP_KNEE   \n",
       "15082   5107826200  2011  COMP_HIP_KNEE   \n",
       "36809   9703524121  2011  COMP_HIP_KNEE   \n",
       "43309   3024214100  2011  COMP_HIP_KNEE   \n",
       "43390   3027447001  2011  COMP_HIP_KNEE   \n",
       "43752   2027164605  2011  COMP_HIP_KNEE   \n",
       "\n",
       "                                            Measure Name     ...       Score  \\\n",
       "0      Rate of complications for hip/knee replacement...     ...      3.7000   \n",
       "175    Rate of complications for hip/knee replacement...     ...      3.2000   \n",
       "5665   Rate of complications for hip/knee replacement...     ...      3.8000   \n",
       "6453   Rate of complications for hip/knee replacement...     ...      3.2000   \n",
       "11119  Rate of complications for hip/knee replacement...     ...      3.5000   \n",
       "15082  Rate of complications for hip/knee replacement...     ...      3.4000   \n",
       "36809  Rate of complications for hip/knee replacement...     ...      5.3000   \n",
       "43309  Rate of complications for hip/knee replacement...     ...      3.4000   \n",
       "43390  Rate of complications for hip/knee replacement...     ...      4.0000   \n",
       "43752  Rate of complications for hip/knee replacement...     ...      2.9000   \n",
       "\n",
       "       Lower Estimate Higher Estimate  Ratio  state_fips  \\\n",
       "0                 2.5             5.5 0.0104           1   \n",
       "175               2.1             4.8 0.0087         NaN   \n",
       "5665              2.5             5.6 0.0104           2   \n",
       "6453              2.1             4.7 0.0089           4   \n",
       "11119             2.0             6.0 0.0897           5   \n",
       "15082             2.0             5.8 0.0420           6   \n",
       "36809             3.7             7.7 0.0183           8   \n",
       "43309             2.0             5.8 0.1030          10   \n",
       "43390             2.8             5.7 0.0083          10   \n",
       "43752             1.7             4.8 0.0184          11   \n",
       "\n",
       "                      state state_abbr zipcode                county  \\\n",
       "0                   Alabama         AL   36301               Houston   \n",
       "175                     NaN        NaN     NaN                   NaN   \n",
       "5665                 Alaska         AK   99508     Anchorage Borough   \n",
       "6453                Arizona         AZ   85006              Maricopa   \n",
       "11119              Arkansas         AR   72830               Johnson   \n",
       "15082            California         CA   94545               Alameda   \n",
       "36809              Colorado         CO   80631                  Weld   \n",
       "43309              Delaware         DE   19805            New Castle   \n",
       "43390              Delaware         DE   19901                  Kent   \n",
       "43752  District of columbia         DC   20037  District of Columbia   \n",
       "\n",
       "              city  \n",
       "0           Taylor  \n",
       "175            NaN  \n",
       "5665     Anchorage  \n",
       "6453       Phoenix  \n",
       "11119  Clarksville  \n",
       "15082      Hayward  \n",
       "36809  Garden city  \n",
       "43309   Wilmington  \n",
       "43390        Dover  \n",
       "43752   Washington  \n",
       "\n",
       "[10 rows x 21 columns]"
      ]
     },
     "execution_count": 168,
     "metadata": {},
     "output_type": "execute_result"
    }
   ],
   "source": [
    "Best_of_ten=Merged_Data[Merged_Data['Measure Name'].str.contains('complication')].groupby(Merged_Data['state'])\n",
    "Best_of_ten.head().nsmallest(10, 'Year', keep='first').drop_duplicates()\n"
   ]
  },
  {
   "cell_type": "markdown",
   "metadata": {
    "deletable": true,
    "editable": true
   },
   "source": [
    "# Create an overview of the change in complications across U.S. states"
   ]
  },
  {
   "cell_type": "markdown",
   "metadata": {
    "deletable": true,
    "editable": true
   },
   "source": [
    "* Focus on the deadly complications only.\n",
    "* Calculate the change as follows: **(average rate for last year in dataset - average rate for first year in dataset)/(average rate for first year in dataset)**"
   ]
  },
  {
   "cell_type": "code",
   "execution_count": 294,
   "metadata": {
    "collapsed": false,
    "deletable": true,
    "editable": true
   },
   "outputs": [
    {
     "data": {
      "text/plain": [
       "<matplotlib.axes._subplots.AxesSubplot at 0x41f93668>"
      ]
     },
     "execution_count": 294,
     "metadata": {},
     "output_type": "execute_result"
    },
    {
     "data": {
      "image/png": "[encoded data removed]",
      "text/plain": [
       "<matplotlib.figure.Figure at 0x3b2bdef0>"
      ]
     },
     "metadata": {},
     "output_type": "display_data"
    }
   ],
   "source": [
    "Deathly_Complications_By_state= Merged_Data[Merged_Data['Measure Name'].str.contains('Death')].groupby('state')\n",
    "Deathly_Complications_By_state.count().plot(legend = False)\n"
   ]
  },
  {
   "cell_type": "markdown",
   "metadata": {
    "deletable": true,
    "editable": true
   },
   "source": [
    "Which state has improved the most?"
   ]
  },
  {
   "cell_type": "markdown",
   "metadata": {
    "deletable": true,
    "editable": true
   },
   "source": [
    "As per the rolling window,  **Texas** has impoved the most."
   ]
  },
  {
   "cell_type": "code",
   "execution_count": 307,
   "metadata": {
    "collapsed": false,
    "deletable": true,
    "editable": true
   },
   "outputs": [
    {
     "data": {
      "text/plain": [
       "state        \n",
       "Texas  271288   75.3372\n",
       "Name: Ratio, dtype: float64"
      ]
     },
     "execution_count": 307,
     "metadata": {},
     "output_type": "execute_result"
    }
   ],
   "source": [
    "Deathly_Complications_By_state.rolling(2).mean()['Ratio'].groupby('state').pct_change().nlargest(1)"
   ]
  },
  {
   "cell_type": "markdown",
   "metadata": {
    "deletable": true,
    "editable": true
   },
   "source": [
    "Which state has the worst development?"
   ]
  },
  {
   "cell_type": "markdown",
   "metadata": {
    "deletable": true,
    "editable": true
   },
   "source": [
    "**Georgia** state shows worst development."
   ]
  },
  {
   "cell_type": "code",
   "execution_count": 306,
   "metadata": {
    "collapsed": false,
    "deletable": true,
    "editable": true
   },
   "outputs": [
    {
     "data": {
      "text/plain": [
       "state         \n",
       "Georgia  62192   -0.9913\n",
       "Name: Ratio, dtype: float64"
      ]
     },
     "execution_count": 306,
     "metadata": {},
     "output_type": "execute_result"
    }
   ],
   "source": [
    "Deathly_Complications_By_state.rolling(2).mean()['Ratio'].groupby('state').pct_change().nsmallest(1)"
   ]
  },
  {
   "cell_type": "markdown",
   "metadata": {
    "ExecuteTime": {
     "end_time": "2018-02-09T02:30:33.122083Z",
     "start_time": "2018-02-09T02:30:33.116370Z"
    },
    "deletable": true,
    "editable": true
   },
   "source": [
    "# Bonus"
   ]
  },
  {
   "cell_type": "markdown",
   "metadata": {
    "deletable": true,
    "editable": true
   },
   "source": [
    "Which state has the worst development for 'Deaths among Patients with Serious Treatable Complications after Surgery'?"
   ]
  },
  {
   "cell_type": "code",
   "execution_count": 372,
   "metadata": {
    "collapsed": false,
    "deletable": true,
    "editable": true
   },
   "outputs": [],
   "source": [
    "Serious_treatable_complication=Merged_Data[Merged_Data['Measure Name'].str.contains('Deaths among Patients with Serious Treatable Complications after Surgery')]"
   ]
  },
  {
   "cell_type": "code",
   "execution_count": 375,
   "metadata": {
    "collapsed": false,
    "deletable": true,
    "editable": true
   },
   "outputs": [
    {
     "data": {
      "text/plain": [
       "state\n",
       "Hawaii   0.4160\n",
       "Name: Ratio, dtype: float64"
      ]
     },
     "execution_count": 375,
     "metadata": {},
     "output_type": "execute_result"
    }
   ],
   "source": [
    "Serious_treatable_complication.groupby('state')['Ratio'].mean().nsmallest(1)"
   ]
  },
  {
   "cell_type": "markdown",
   "metadata": {
    "deletable": true,
    "editable": true
   },
   "source": [
    "**Hawaii** is the worst developed among the given type of complication."
   ]
  }
 ],
 "metadata": {
  "kernelspec": {
   "display_name": "Python 2",
   "language": "python",
   "name": "python2"
  },
  "language_info": {
   "codemirror_mode": {
    "name": "ipython",
    "version": 2
   },
   "file_extension": ".py",
   "mimetype": "text/x-python",
   "name": "python",
   "nbconvert_exporter": "python",
   "pygments_lexer": "ipython2",
   "version": "2.7.13"
  },
  "toc": {
   "nav_menu": {},
   "number_sections": true,
   "sideBar": true,
   "skip_h1_title": false,
   "title_cell": "Table of Contents",
   "title_sidebar": "Contents",
   "toc_cell": false,
   "toc_position": {},
   "toc_section_display": true,
   "toc_window_display": false
  },
  "varInspector": {
   "cols": {
    "lenName": 16,
    "lenType": 16,
    "lenVar": 40
   },
   "kernels_config": {
    "python": {
     "delete_cmd_postfix": "",
     "delete_cmd_prefix": "del ",
     "library": "var_list.py",
     "varRefreshCmd": "print(var_dic_list())"
    },
    "r": {
     "delete_cmd_postfix": ") ",
     "delete_cmd_prefix": "rm(",
     "library": "var_list.r",
     "varRefreshCmd": "cat(var_dic_list()) "
    }
   },
   "types_to_exclude": [
    "module",
    "function",
    "builtin_function_or_method",
    "instance",
    "_Feature"
   ],
   "window_display": false
  }
 },
 "nbformat": 4,
 "nbformat_minor": 2
}
