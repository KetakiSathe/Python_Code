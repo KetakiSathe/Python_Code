{
 "cells": [
  {
   "cell_type": "markdown",
   "metadata": {
    "deletable": true,
    "editable": true
   },
   "source": [
    "# Midterm take-home"
   ]
  },
  {
   "cell_type": "markdown",
   "metadata": {
    "deletable": true,
    "editable": true
   },
   "source": [
    "<p>Instructions\n",
    "<ol>\n",
    "<li>Download the file <i>appointments.csv</i> into the same folder as the current Jupyter notebook\n",
    "<li>Run the code below and then answer the questions\n",
    "</ol></p>"
   ]
  },
  {
   "cell_type": "markdown",
   "metadata": {
    "deletable": true,
    "editable": true
   },
   "source": [
    "<b>Penalties:</b> You will incur penalties if:\n",
    "<ul>\n",
    "<li>Your answer is different from the correct one</li>\n",
    "<li>Your code is unncessarily slow</li>\n",
    "<li>Your code is longer than specified</li>\n",
    "<li>You will be penalized if, in an attempt to limit the lines of code, you make your code too hard to read or too slow -- for example, by copy-pasting pieces of code in the same line instead of declaring a variable in one line and using the variable in another.\n",
    "</ul>"
   ]
  },
  {
   "cell_type": "code",
   "execution_count": 1,
   "metadata": {
    "collapsed": false,
    "deletable": true,
    "editable": true
   },
   "outputs": [],
   "source": [
    "import pandas as pd\n",
    "import numpy as np\n",
    "df = pd.read_csv('appointments.csv', index_col=0)"
   ]
  },
  {
   "cell_type": "markdown",
   "metadata": {
    "deletable": true,
    "editable": true
   },
   "source": [
    "## Data Description"
   ]
  },
  {
   "cell_type": "code",
   "execution_count": 2,
   "metadata": {
    "collapsed": false,
    "deletable": true,
    "editable": true,
    "scrolled": true
   },
   "outputs": [
    {
     "data": {
      "text/html": [
       "<div>\n",
       "<style>\n",
       "    .dataframe thead tr:only-child th {\n",
       "        text-align: right;\n",
       "    }\n",
       "\n",
       "    .dataframe thead th {\n",
       "        text-align: left;\n",
       "    }\n",
       "\n",
       "    .dataframe tbody tr th {\n",
       "        vertical-align: top;\n",
       "    }\n",
       "</style>\n",
       "<table border=\"1\" class=\"dataframe\">\n",
       "  <thead>\n",
       "    <tr style=\"text-align: right;\">\n",
       "      <th></th>\n",
       "      <th>AppointmentID</th>\n",
       "      <th>MRN</th>\n",
       "      <th>Appt Date</th>\n",
       "      <th>Appt Time</th>\n",
       "      <th>Appointment Status</th>\n",
       "      <th>Time When Appt Arrived</th>\n",
       "      <th>Date When Appt Scheduled</th>\n",
       "      <th>CAN or BMP Date</th>\n",
       "      <th>Provider ID</th>\n",
       "      <th>Gender</th>\n",
       "      <th>Patient Age at Appt Date</th>\n",
       "      <th>Marital Status</th>\n",
       "      <th>Employment Status</th>\n",
       "    </tr>\n",
       "  </thead>\n",
       "  <tbody>\n",
       "    <tr>\n",
       "      <th>0</th>\n",
       "      <td>1</td>\n",
       "      <td>12067</td>\n",
       "      <td>2013-12-23</td>\n",
       "      <td>900</td>\n",
       "      <td>Cancelled</td>\n",
       "      <td>NaN</td>\n",
       "      <td>2013-09-04</td>\n",
       "      <td>2013-12-11</td>\n",
       "      <td>15</td>\n",
       "      <td>F</td>\n",
       "      <td>52</td>\n",
       "      <td>MARRIED</td>\n",
       "      <td>NOT EMPLOYED</td>\n",
       "    </tr>\n",
       "    <tr>\n",
       "      <th>1</th>\n",
       "      <td>2</td>\n",
       "      <td>7264</td>\n",
       "      <td>2013-11-14</td>\n",
       "      <td>780</td>\n",
       "      <td>Arrived</td>\n",
       "      <td>759.0</td>\n",
       "      <td>2013-05-20</td>\n",
       "      <td>NaN</td>\n",
       "      <td>15</td>\n",
       "      <td>F</td>\n",
       "      <td>33</td>\n",
       "      <td>MARRIED</td>\n",
       "      <td>NOT EMPLOYED</td>\n",
       "    </tr>\n",
       "    <tr>\n",
       "      <th>2</th>\n",
       "      <td>3</td>\n",
       "      <td>9903</td>\n",
       "      <td>2013-10-16</td>\n",
       "      <td>720</td>\n",
       "      <td>Arrived</td>\n",
       "      <td>708.0</td>\n",
       "      <td>2013-06-12</td>\n",
       "      <td>NaN</td>\n",
       "      <td>15</td>\n",
       "      <td>F</td>\n",
       "      <td>40</td>\n",
       "      <td>MARRIED</td>\n",
       "      <td>EMPLOYED FULL TIME</td>\n",
       "    </tr>\n",
       "    <tr>\n",
       "      <th>3</th>\n",
       "      <td>4</td>\n",
       "      <td>9588</td>\n",
       "      <td>2012-12-13</td>\n",
       "      <td>720</td>\n",
       "      <td>Arrived</td>\n",
       "      <td>712.0</td>\n",
       "      <td>2012-11-19</td>\n",
       "      <td>NaN</td>\n",
       "      <td>15</td>\n",
       "      <td>F</td>\n",
       "      <td>25</td>\n",
       "      <td>SINGLE</td>\n",
       "      <td>EMPLOYED FULL TIME</td>\n",
       "    </tr>\n",
       "    <tr>\n",
       "      <th>4</th>\n",
       "      <td>5</td>\n",
       "      <td>8131</td>\n",
       "      <td>2011-03-24</td>\n",
       "      <td>600</td>\n",
       "      <td>Bumped</td>\n",
       "      <td>NaN</td>\n",
       "      <td>2010-03-25</td>\n",
       "      <td>2010-11-10</td>\n",
       "      <td>15</td>\n",
       "      <td>F</td>\n",
       "      <td>57</td>\n",
       "      <td>DIVORCED</td>\n",
       "      <td>EMPLOYED FULL TIME</td>\n",
       "    </tr>\n",
       "  </tbody>\n",
       "</table>\n",
       "</div>"
      ],
      "text/plain": [
       "   AppointmentID    MRN   Appt Date  Appt Time Appointment Status  \\\n",
       "0              1  12067  2013-12-23        900          Cancelled   \n",
       "1              2   7264  2013-11-14        780            Arrived   \n",
       "2              3   9903  2013-10-16        720            Arrived   \n",
       "3              4   9588  2012-12-13        720            Arrived   \n",
       "4              5   8131  2011-03-24        600             Bumped   \n",
       "\n",
       "   Time When Appt Arrived Date When Appt Scheduled CAN or BMP Date  \\\n",
       "0                     NaN               2013-09-04      2013-12-11   \n",
       "1                   759.0               2013-05-20             NaN   \n",
       "2                   708.0               2013-06-12             NaN   \n",
       "3                   712.0               2012-11-19             NaN   \n",
       "4                     NaN               2010-03-25      2010-11-10   \n",
       "\n",
       "   Provider ID Gender  Patient Age at Appt Date Marital Status  \\\n",
       "0           15      F                        52        MARRIED   \n",
       "1           15      F                        33        MARRIED   \n",
       "2           15      F                        40        MARRIED   \n",
       "3           15      F                        25         SINGLE   \n",
       "4           15      F                        57       DIVORCED   \n",
       "\n",
       "    Employment Status  \n",
       "0        NOT EMPLOYED  \n",
       "1        NOT EMPLOYED  \n",
       "2  EMPLOYED FULL TIME  \n",
       "3  EMPLOYED FULL TIME  \n",
       "4  EMPLOYED FULL TIME  "
      ]
     },
     "execution_count": 2,
     "metadata": {},
     "output_type": "execute_result"
    }
   ],
   "source": [
    "df.head()"
   ]
  },
  {
   "cell_type": "code",
   "execution_count": 3,
   "metadata": {
    "collapsed": false,
    "deletable": true,
    "editable": true
   },
   "outputs": [
    {
     "data": {
      "text/plain": [
       "41631"
      ]
     },
     "execution_count": 3,
     "metadata": {},
     "output_type": "execute_result"
    }
   ],
   "source": [
    "len(df)"
   ]
  },
  {
   "cell_type": "markdown",
   "metadata": {
    "deletable": true,
    "editable": true
   },
   "source": [
    "This is an appointment data set for an undisclosed outpatient clinic. One row corresponds to an appointment. Each appointment is characterized by the following attributes:\n",
    "<ul>\n",
    "<li><b>AppointmentID</b>: The unique identifier of the appointment.\n",
    "<li><b>MRN</b>: The unique identifier of the patient (MRN = Medical Record Number).\n",
    "<li><b>Appt Date</b>: The date when the appointment took place.\n",
    "<li><b>Appt Time</b>: The time (expressed in minutes after midnight) when the appointment took place.\n",
    "<li><b>Appointment Status</b>: The outcome of the appointment. \n",
    "    <ul>\n",
    "    <li><i>Arrived</i>: the appointment took place regularly.\n",
    "    <li><i>Cancelled</i>: the appointment was cancelled by the patient before taking place. \n",
    "    <li><i>Bumped</i>: the appointment was cancelled by the provider.\n",
    "    <li><i>No Show</i>: the patient did not show up for the appointment.\n",
    "    <li><i>Pending</i>: the appointment did not take place yet in the moment when the data was pulled.\n",
    "    </ul>\n",
    "<li><b>Time When Appt Arrived</b>: The time (expressed in minutes after midnight) when the patient checked in on the appointment day.\n",
    "<li><b>Date When Appt Scheduled</b>: The day when the appointment was scheduled\n",
    "<li><b>CAN or BMP Date</b>: If the appointment was cancelled or bumped, the date when this even happened.\n",
    "<li><b>Provider ID</b>: The id of the provider scheduled to see the patient.\n",
    "<li><b>Gender</b>: The patient's gender.\n",
    "<li><b>Patient Age at Appt Date</b>: The age of the patient at Appt Date.\n",
    "<li><b>Marital Status</b>: The patient's marital status.\n",
    "<li><b>Employment status</b>: The patient's employment status.\n",
    "</ul>"
   ]
  },
  {
   "cell_type": "markdown",
   "metadata": {
    "deletable": true,
    "editable": true
   },
   "source": [
    "## Question 1 (2 pts, $\\le$ 3 lines of code)"
   ]
  },
  {
   "cell_type": "markdown",
   "metadata": {
    "deletable": true,
    "editable": true
   },
   "source": [
    "Find whether marital status and gender affect the probability of no-show. First, you will need to make a copy of df without the appointments whose outcome is different from no-show or arrived. Then, for each existing combination of marital status and gender, find the number of appointments and their probability of no-show. <b>Use at most 3 lines of code</b>."
   ]
  },
  {
   "cell_type": "code",
   "execution_count": 7,
   "metadata": {
    "collapsed": true,
    "deletable": true,
    "editable": true
   },
   "outputs": [],
   "source": [
    "reduced = df[df['Appointment Status'].isin(['No Show','Arrived'])]"
   ]
  },
  {
   "cell_type": "code",
   "execution_count": 9,
   "metadata": {
    "collapsed": false,
    "deletable": true,
    "editable": true
   },
   "outputs": [
    {
     "name": "stderr",
     "output_type": "stream",
     "text": [
      "C:\\Users\\Academic Technology\\AppData\\Local\\Enthought\\Canopy\\User\\lib\\site-packages\\ipykernel\\__main__.py:1: SettingWithCopyWarning: \n",
      "A value is trying to be set on a copy of a slice from a DataFrame.\n",
      "Try using .loc[row_indexer,col_indexer] = value instead\n",
      "\n",
      "See the caveats in the documentation: http://pandas.pydata.org/pandas-docs/stable/indexing.html#indexing-view-versus-copy\n",
      "  if __name__ == '__main__':\n"
     ]
    }
   ],
   "source": [
    "reduced['NoShow'] = reduced['Appointment Status'] == 'No Show'"
   ]
  },
  {
   "cell_type": "code",
   "execution_count": 15,
   "metadata": {
    "collapsed": false,
    "deletable": true,
    "editable": true
   },
   "outputs": [
    {
     "data": {
      "text/html": [
       "<div>\n",
       "<style>\n",
       "    .dataframe thead tr:only-child th {\n",
       "        text-align: right;\n",
       "    }\n",
       "\n",
       "    .dataframe thead th {\n",
       "        text-align: left;\n",
       "    }\n",
       "\n",
       "    .dataframe tbody tr th {\n",
       "        vertical-align: top;\n",
       "    }\n",
       "</style>\n",
       "<table border=\"1\" class=\"dataframe\">\n",
       "  <thead>\n",
       "    <tr style=\"text-align: right;\">\n",
       "      <th></th>\n",
       "      <th></th>\n",
       "      <th>mean</th>\n",
       "      <th>size</th>\n",
       "    </tr>\n",
       "    <tr>\n",
       "      <th>Marital Status</th>\n",
       "      <th>Gender</th>\n",
       "      <th></th>\n",
       "      <th></th>\n",
       "    </tr>\n",
       "  </thead>\n",
       "  <tbody>\n",
       "    <tr>\n",
       "      <th rowspan=\"2\" valign=\"top\">DIVORCED</th>\n",
       "      <th>F</th>\n",
       "      <td>0.157392</td>\n",
       "      <td>2408</td>\n",
       "    </tr>\n",
       "    <tr>\n",
       "      <th>M</th>\n",
       "      <td>0.172023</td>\n",
       "      <td>529</td>\n",
       "    </tr>\n",
       "    <tr>\n",
       "      <th>LIFE PARTNER</th>\n",
       "      <th>F</th>\n",
       "      <td>0.095238</td>\n",
       "      <td>21</td>\n",
       "    </tr>\n",
       "    <tr>\n",
       "      <th rowspan=\"2\" valign=\"top\">MARRIED</th>\n",
       "      <th>F</th>\n",
       "      <td>0.100719</td>\n",
       "      <td>8618</td>\n",
       "    </tr>\n",
       "    <tr>\n",
       "      <th>M</th>\n",
       "      <td>0.127478</td>\n",
       "      <td>3632</td>\n",
       "    </tr>\n",
       "    <tr>\n",
       "      <th rowspan=\"2\" valign=\"top\">SEPARATED</th>\n",
       "      <th>F</th>\n",
       "      <td>0.267143</td>\n",
       "      <td>700</td>\n",
       "    </tr>\n",
       "    <tr>\n",
       "      <th>M</th>\n",
       "      <td>0.250000</td>\n",
       "      <td>168</td>\n",
       "    </tr>\n",
       "    <tr>\n",
       "      <th rowspan=\"2\" valign=\"top\">SINGLE</th>\n",
       "      <th>F</th>\n",
       "      <td>0.199116</td>\n",
       "      <td>5881</td>\n",
       "    </tr>\n",
       "    <tr>\n",
       "      <th>M</th>\n",
       "      <td>0.219377</td>\n",
       "      <td>2343</td>\n",
       "    </tr>\n",
       "    <tr>\n",
       "      <th rowspan=\"2\" valign=\"top\">UNKNOWN</th>\n",
       "      <th>F</th>\n",
       "      <td>0.409091</td>\n",
       "      <td>22</td>\n",
       "    </tr>\n",
       "    <tr>\n",
       "      <th>M</th>\n",
       "      <td>0.285714</td>\n",
       "      <td>14</td>\n",
       "    </tr>\n",
       "    <tr>\n",
       "      <th rowspan=\"2\" valign=\"top\">WIDOW</th>\n",
       "      <th>F</th>\n",
       "      <td>0.150419</td>\n",
       "      <td>1908</td>\n",
       "    </tr>\n",
       "    <tr>\n",
       "      <th>M</th>\n",
       "      <td>0.183824</td>\n",
       "      <td>136</td>\n",
       "    </tr>\n",
       "  </tbody>\n",
       "</table>\n",
       "</div>"
      ],
      "text/plain": [
       "                           mean  size\n",
       "Marital Status Gender                \n",
       "DIVORCED       F       0.157392  2408\n",
       "               M       0.172023   529\n",
       "LIFE PARTNER   F       0.095238    21\n",
       "MARRIED        F       0.100719  8618\n",
       "               M       0.127478  3632\n",
       "SEPARATED      F       0.267143   700\n",
       "               M       0.250000   168\n",
       "SINGLE         F       0.199116  5881\n",
       "               M       0.219377  2343\n",
       "UNKNOWN        F       0.409091    22\n",
       "               M       0.285714    14\n",
       "WIDOW          F       0.150419  1908\n",
       "               M       0.183824   136"
      ]
     },
     "execution_count": 15,
     "metadata": {},
     "output_type": "execute_result"
    }
   ],
   "source": [
    "reduced.groupby(['Marital Status','Gender'])['NoShow'].agg(['mean','size'])"
   ]
  },
  {
   "cell_type": "markdown",
   "metadata": {
    "deletable": true,
    "editable": true
   },
   "source": [
    "## Question 2 (2 pts, $\\le$ 3 lines of code)"
   ]
  },
  {
   "cell_type": "markdown",
   "metadata": {
    "deletable": true,
    "editable": true
   },
   "source": [
    "<p>Using the data frame constructed in Q1, find whether the lead time to the appointment affects the probability of no-show. The lead time to the appointment is the number of days elapsed from the moment when the appointment was requested to the appointment date. </p>\n",
    "<p>Find the no-show probability and number of appointments for each of the following lead time intervals (pay attention to the interval boundaries):\n",
    "<ul>\n",
    "<li>$\\le$ 10 days\n",
    "<li>between 11 and 20 days\n",
    "<li>between 21 and 30 days\n",
    "<li>over 30 days\n",
    "</ul>\n",
    "<p> <b>Use at most 3 lines of code</b>. Hint: You may find the function pd.cut helpful.</p>"
   ]
  },
  {
   "cell_type": "code",
   "execution_count": 19,
   "metadata": {
    "collapsed": false,
    "deletable": true,
    "editable": true
   },
   "outputs": [
    {
     "name": "stderr",
     "output_type": "stream",
     "text": [
      "C:\\Users\\Academic Technology\\AppData\\Local\\Enthought\\Canopy\\User\\lib\\site-packages\\ipykernel\\__main__.py:1: SettingWithCopyWarning: \n",
      "A value is trying to be set on a copy of a slice from a DataFrame.\n",
      "Try using .loc[row_indexer,col_indexer] = value instead\n",
      "\n",
      "See the caveats in the documentation: http://pandas.pydata.org/pandas-docs/stable/indexing.html#indexing-view-versus-copy\n",
      "  if __name__ == '__main__':\n"
     ]
    }
   ],
   "source": [
    "reduced['LeadTime']= reduced['Appt Date'].astype('datetime64[D]') - reduced['Date When Appt Scheduled'].astype('datetime64[D]')"
   ]
  },
  {
   "cell_type": "code",
   "execution_count": 30,
   "metadata": {
    "collapsed": false,
    "deletable": true,
    "editable": true
   },
   "outputs": [
    {
     "name": "stderr",
     "output_type": "stream",
     "text": [
      "C:\\Users\\Academic Technology\\AppData\\Local\\Enthought\\Canopy\\User\\lib\\site-packages\\ipykernel\\__main__.py:1: SettingWithCopyWarning: \n",
      "A value is trying to be set on a copy of a slice from a DataFrame.\n",
      "Try using .loc[row_indexer,col_indexer] = value instead\n",
      "\n",
      "See the caveats in the documentation: http://pandas.pydata.org/pandas-docs/stable/indexing.html#indexing-view-versus-copy\n",
      "  if __name__ == '__main__':\n"
     ]
    }
   ],
   "source": [
    "reduced['LeadTime'] = pd.cut(reduced['LeadTime'].dt.days,bins=[0,10,20,30,10000],include_lowest=True)"
   ]
  },
  {
   "cell_type": "code",
   "execution_count": 31,
   "metadata": {
    "collapsed": false,
    "deletable": true,
    "editable": true
   },
   "outputs": [
    {
     "data": {
      "text/html": [
       "<div>\n",
       "<style>\n",
       "    .dataframe thead tr:only-child th {\n",
       "        text-align: right;\n",
       "    }\n",
       "\n",
       "    .dataframe thead th {\n",
       "        text-align: left;\n",
       "    }\n",
       "\n",
       "    .dataframe tbody tr th {\n",
       "        vertical-align: top;\n",
       "    }\n",
       "</style>\n",
       "<table border=\"1\" class=\"dataframe\">\n",
       "  <thead>\n",
       "    <tr style=\"text-align: right;\">\n",
       "      <th></th>\n",
       "      <th>mean</th>\n",
       "      <th>size</th>\n",
       "    </tr>\n",
       "    <tr>\n",
       "      <th>LeadTime</th>\n",
       "      <th></th>\n",
       "      <th></th>\n",
       "    </tr>\n",
       "  </thead>\n",
       "  <tbody>\n",
       "    <tr>\n",
       "      <th>(-0.001, 10.0]</th>\n",
       "      <td>0.106341</td>\n",
       "      <td>5520</td>\n",
       "    </tr>\n",
       "    <tr>\n",
       "      <th>(10.0, 20.0]</th>\n",
       "      <td>0.151300</td>\n",
       "      <td>3655</td>\n",
       "    </tr>\n",
       "    <tr>\n",
       "      <th>(20.0, 30.0]</th>\n",
       "      <td>0.163856</td>\n",
       "      <td>3143</td>\n",
       "    </tr>\n",
       "    <tr>\n",
       "      <th>(30.0, 10000.0]</th>\n",
       "      <td>0.169864</td>\n",
       "      <td>14076</td>\n",
       "    </tr>\n",
       "  </tbody>\n",
       "</table>\n",
       "</div>"
      ],
      "text/plain": [
       "                     mean   size\n",
       "LeadTime                        \n",
       "(-0.001, 10.0]   0.106341   5520\n",
       "(10.0, 20.0]     0.151300   3655\n",
       "(20.0, 30.0]     0.163856   3143\n",
       "(30.0, 10000.0]  0.169864  14076"
      ]
     },
     "execution_count": 31,
     "metadata": {},
     "output_type": "execute_result"
    }
   ],
   "source": [
    "reduced.groupby('LeadTime')['NoShow'].agg(['mean','size'])"
   ]
  },
  {
   "cell_type": "markdown",
   "metadata": {
    "deletable": true,
    "editable": true
   },
   "source": [
    "## Question 3 (6 pts, $\\le$ 8 lines of code not including comments, $\\le$ 20 words of explanation)"
   ]
  },
  {
   "cell_type": "markdown",
   "metadata": {
    "deletable": true,
    "editable": true
   },
   "source": [
    "<p>Using the data frame constructed in Q1, find whether the no-show probability of a given appointment is affected by the patient's no-show behavior prior to that appointment. Do not consider first-time appointments. </p>\n",
    "\n",
    "<p>Present your results with one table and then discuss it in at most 20 words. Make sure that your table is easy to understand; for example, try to use descriptive column headers.</p>\n",
    "\n",
    "<p> This problem is left vague on purpose. In particular, how to analyze past no-show behavior is up to you. No help will be given to answer this question, aside from clarifications on the wording and on the data. </p>"
   ]
  },
  {
   "cell_type": "code",
   "execution_count": 34,
   "metadata": {
    "collapsed": false,
    "deletable": true,
    "editable": true
   },
   "outputs": [],
   "source": [
    "merged = reduced.merge(reduced, on='MRN')"
   ]
  },
  {
   "cell_type": "markdown",
   "metadata": {
    "deletable": true,
    "editable": true
   },
   "source": [
    "For every appointment x, get the patient's previous appointments y"
   ]
  },
  {
   "cell_type": "code",
   "execution_count": 38,
   "metadata": {
    "collapsed": false,
    "deletable": true,
    "editable": true
   },
   "outputs": [],
   "source": [
    "previousAppts = merged[merged['Appt Date_x'] > merged['Appt Date_y']]"
   ]
  },
  {
   "cell_type": "code",
   "execution_count": 47,
   "metadata": {
    "collapsed": false,
    "deletable": true,
    "editable": true,
    "scrolled": true
   },
   "outputs": [],
   "source": [
    "history = previousAppts.groupby(['AppointmentID_x','MRN','NoShow_x']).agg({\n",
    "        'NoShow_y' : ['sum', 'mean', 'size']\n",
    "    }).reset_index()"
   ]
  },
  {
   "cell_type": "code",
   "execution_count": 48,
   "metadata": {
    "collapsed": false,
    "deletable": true,
    "editable": true
   },
   "outputs": [
    {
     "data": {
      "text/html": [
       "<div>\n",
       "<style>\n",
       "    .dataframe thead tr:only-child th {\n",
       "        text-align: right;\n",
       "    }\n",
       "\n",
       "    .dataframe thead th {\n",
       "        text-align: left;\n",
       "    }\n",
       "\n",
       "    .dataframe tbody tr th {\n",
       "        vertical-align: top;\n",
       "    }\n",
       "</style>\n",
       "<table border=\"1\" class=\"dataframe\">\n",
       "  <thead>\n",
       "    <tr>\n",
       "      <th></th>\n",
       "      <th>AppointmentID_x</th>\n",
       "      <th>MRN</th>\n",
       "      <th>NoShow_x</th>\n",
       "      <th colspan=\"3\" halign=\"left\">NoShow_y</th>\n",
       "    </tr>\n",
       "    <tr>\n",
       "      <th></th>\n",
       "      <th></th>\n",
       "      <th></th>\n",
       "      <th></th>\n",
       "      <th>sum</th>\n",
       "      <th>mean</th>\n",
       "      <th>size</th>\n",
       "    </tr>\n",
       "  </thead>\n",
       "  <tbody>\n",
       "    <tr>\n",
       "      <th>0</th>\n",
       "      <td>2</td>\n",
       "      <td>7264</td>\n",
       "      <td>False</td>\n",
       "      <td>0.0</td>\n",
       "      <td>0.00</td>\n",
       "      <td>3</td>\n",
       "    </tr>\n",
       "    <tr>\n",
       "      <th>1</th>\n",
       "      <td>3</td>\n",
       "      <td>9903</td>\n",
       "      <td>False</td>\n",
       "      <td>0.0</td>\n",
       "      <td>0.00</td>\n",
       "      <td>2</td>\n",
       "    </tr>\n",
       "    <tr>\n",
       "      <th>2</th>\n",
       "      <td>4</td>\n",
       "      <td>9588</td>\n",
       "      <td>False</td>\n",
       "      <td>1.0</td>\n",
       "      <td>0.25</td>\n",
       "      <td>4</td>\n",
       "    </tr>\n",
       "    <tr>\n",
       "      <th>3</th>\n",
       "      <td>6</td>\n",
       "      <td>4706</td>\n",
       "      <td>False</td>\n",
       "      <td>0.0</td>\n",
       "      <td>0.00</td>\n",
       "      <td>1</td>\n",
       "    </tr>\n",
       "    <tr>\n",
       "      <th>4</th>\n",
       "      <td>8</td>\n",
       "      <td>5786</td>\n",
       "      <td>False</td>\n",
       "      <td>0.0</td>\n",
       "      <td>0.00</td>\n",
       "      <td>6</td>\n",
       "    </tr>\n",
       "  </tbody>\n",
       "</table>\n",
       "</div>"
      ],
      "text/plain": [
       "  AppointmentID_x   MRN NoShow_x NoShow_y           \n",
       "                                      sum  mean size\n",
       "0               2  7264    False      0.0  0.00    3\n",
       "1               3  9903    False      0.0  0.00    2\n",
       "2               4  9588    False      1.0  0.25    4\n",
       "3               6  4706    False      0.0  0.00    1\n",
       "4               8  5786    False      0.0  0.00    6"
      ]
     },
     "execution_count": 48,
     "metadata": {},
     "output_type": "execute_result"
    }
   ],
   "source": [
    "history.head()"
   ]
  },
  {
   "cell_type": "code",
   "execution_count": 49,
   "metadata": {
    "collapsed": false,
    "deletable": true,
    "editable": true
   },
   "outputs": [],
   "source": [
    "history.columns=['ApptID','MRN','NoShow','pastNoShows','pastNoShowRate','pastAppts']"
   ]
  },
  {
   "cell_type": "code",
   "execution_count": 50,
   "metadata": {
    "collapsed": false,
    "deletable": true,
    "editable": true,
    "scrolled": true
   },
   "outputs": [
    {
     "data": {
      "text/html": [
       "<div>\n",
       "<style>\n",
       "    .dataframe thead tr:only-child th {\n",
       "        text-align: right;\n",
       "    }\n",
       "\n",
       "    .dataframe thead th {\n",
       "        text-align: left;\n",
       "    }\n",
       "\n",
       "    .dataframe tbody tr th {\n",
       "        vertical-align: top;\n",
       "    }\n",
       "</style>\n",
       "<table border=\"1\" class=\"dataframe\">\n",
       "  <thead>\n",
       "    <tr style=\"text-align: right;\">\n",
       "      <th></th>\n",
       "      <th>ApptID</th>\n",
       "      <th>MRN</th>\n",
       "      <th>NoShow</th>\n",
       "      <th>pastNoShows</th>\n",
       "      <th>pastNoShowRate</th>\n",
       "      <th>pastAppts</th>\n",
       "    </tr>\n",
       "  </thead>\n",
       "  <tbody>\n",
       "    <tr>\n",
       "      <th>0</th>\n",
       "      <td>2</td>\n",
       "      <td>7264</td>\n",
       "      <td>False</td>\n",
       "      <td>0.0</td>\n",
       "      <td>0.00</td>\n",
       "      <td>3</td>\n",
       "    </tr>\n",
       "    <tr>\n",
       "      <th>1</th>\n",
       "      <td>3</td>\n",
       "      <td>9903</td>\n",
       "      <td>False</td>\n",
       "      <td>0.0</td>\n",
       "      <td>0.00</td>\n",
       "      <td>2</td>\n",
       "    </tr>\n",
       "    <tr>\n",
       "      <th>2</th>\n",
       "      <td>4</td>\n",
       "      <td>9588</td>\n",
       "      <td>False</td>\n",
       "      <td>1.0</td>\n",
       "      <td>0.25</td>\n",
       "      <td>4</td>\n",
       "    </tr>\n",
       "    <tr>\n",
       "      <th>3</th>\n",
       "      <td>6</td>\n",
       "      <td>4706</td>\n",
       "      <td>False</td>\n",
       "      <td>0.0</td>\n",
       "      <td>0.00</td>\n",
       "      <td>1</td>\n",
       "    </tr>\n",
       "    <tr>\n",
       "      <th>4</th>\n",
       "      <td>8</td>\n",
       "      <td>5786</td>\n",
       "      <td>False</td>\n",
       "      <td>0.0</td>\n",
       "      <td>0.00</td>\n",
       "      <td>6</td>\n",
       "    </tr>\n",
       "  </tbody>\n",
       "</table>\n",
       "</div>"
      ],
      "text/plain": [
       "   ApptID   MRN  NoShow  pastNoShows  pastNoShowRate  pastAppts\n",
       "0       2  7264   False          0.0            0.00          3\n",
       "1       3  9903   False          0.0            0.00          2\n",
       "2       4  9588   False          1.0            0.25          4\n",
       "3       6  4706   False          0.0            0.00          1\n",
       "4       8  5786   False          0.0            0.00          6"
      ]
     },
     "execution_count": 50,
     "metadata": {},
     "output_type": "execute_result"
    }
   ],
   "source": [
    "history.head()"
   ]
  },
  {
   "cell_type": "code",
   "execution_count": 52,
   "metadata": {
    "collapsed": false,
    "deletable": true,
    "editable": true
   },
   "outputs": [
    {
     "data": {
      "text/html": [
       "<div>\n",
       "<style>\n",
       "    .dataframe thead tr:only-child th {\n",
       "        text-align: right;\n",
       "    }\n",
       "\n",
       "    .dataframe thead th {\n",
       "        text-align: left;\n",
       "    }\n",
       "\n",
       "    .dataframe tbody tr th {\n",
       "        vertical-align: top;\n",
       "    }\n",
       "</style>\n",
       "<table border=\"1\" class=\"dataframe\">\n",
       "  <thead>\n",
       "    <tr style=\"text-align: right;\">\n",
       "      <th></th>\n",
       "      <th>mean</th>\n",
       "      <th>size</th>\n",
       "    </tr>\n",
       "    <tr>\n",
       "      <th>pastNoShows</th>\n",
       "      <th></th>\n",
       "      <th></th>\n",
       "    </tr>\n",
       "  </thead>\n",
       "  <tbody>\n",
       "    <tr>\n",
       "      <th>0.0</th>\n",
       "      <td>0.114831</td>\n",
       "      <td>10694</td>\n",
       "    </tr>\n",
       "    <tr>\n",
       "      <th>1.0</th>\n",
       "      <td>0.252272</td>\n",
       "      <td>2751</td>\n",
       "    </tr>\n",
       "    <tr>\n",
       "      <th>2.0</th>\n",
       "      <td>0.333333</td>\n",
       "      <td>732</td>\n",
       "    </tr>\n",
       "    <tr>\n",
       "      <th>3.0</th>\n",
       "      <td>0.400794</td>\n",
       "      <td>252</td>\n",
       "    </tr>\n",
       "    <tr>\n",
       "      <th>4.0</th>\n",
       "      <td>0.456311</td>\n",
       "      <td>103</td>\n",
       "    </tr>\n",
       "    <tr>\n",
       "      <th>5.0</th>\n",
       "      <td>0.489362</td>\n",
       "      <td>47</td>\n",
       "    </tr>\n",
       "    <tr>\n",
       "      <th>6.0</th>\n",
       "      <td>0.555556</td>\n",
       "      <td>27</td>\n",
       "    </tr>\n",
       "    <tr>\n",
       "      <th>7.0</th>\n",
       "      <td>0.750000</td>\n",
       "      <td>8</td>\n",
       "    </tr>\n",
       "    <tr>\n",
       "      <th>8.0</th>\n",
       "      <td>0.600000</td>\n",
       "      <td>5</td>\n",
       "    </tr>\n",
       "    <tr>\n",
       "      <th>9.0</th>\n",
       "      <td>1.000000</td>\n",
       "      <td>1</td>\n",
       "    </tr>\n",
       "  </tbody>\n",
       "</table>\n",
       "</div>"
      ],
      "text/plain": [
       "                 mean   size\n",
       "pastNoShows                 \n",
       "0.0          0.114831  10694\n",
       "1.0          0.252272   2751\n",
       "2.0          0.333333    732\n",
       "3.0          0.400794    252\n",
       "4.0          0.456311    103\n",
       "5.0          0.489362     47\n",
       "6.0          0.555556     27\n",
       "7.0          0.750000      8\n",
       "8.0          0.600000      5\n",
       "9.0          1.000000      1"
      ]
     },
     "execution_count": 52,
     "metadata": {},
     "output_type": "execute_result"
    }
   ],
   "source": [
    "history.groupby('pastNoShows')['NoShow'].agg(['mean','size'])"
   ]
  },
  {
   "cell_type": "code",
   "execution_count": null,
   "metadata": {
    "collapsed": true,
    "deletable": true,
    "editable": true
   },
   "outputs": [],
   "source": []
  }
 ],
 "metadata": {
  "kernelspec": {
   "display_name": "Python 2",
   "language": "python",
   "name": "python2"
  },
  "language_info": {
   "codemirror_mode": {
    "name": "ipython",
    "version": 2
   },
   "file_extension": ".py",
   "mimetype": "text/x-python",
   "name": "python",
   "nbconvert_exporter": "python",
   "pygments_lexer": "ipython2",
   "version": "2.7.13"
  }
 },
 "nbformat": 4,
 "nbformat_minor": 0
}
